{
 "cells": [
  {
   "cell_type": "markdown",
   "metadata": {},
   "source": [
    "## Python Regular Expressions RegEx"
   ]
  },
  {
   "cell_type": "markdown",
   "metadata": {},
   "source": [
    "### A RegEx, or Regular Expression, is a sequence of characters that forms a search pattern.\n",
    "\n",
    "RegEx can be used to check if a string contains the specified search pattern.\n",
    "\n",
    "RegEx Module\n",
    "Python has a built-in package called re, which can be used to work with Regular Expressions."
   ]
  },
  {
   "cell_type": "markdown",
   "metadata": {},
   "source": [
    "### Import Regular Expression Library"
   ]
  },
  {
   "cell_type": "code",
   "execution_count": 1,
   "metadata": {},
   "outputs": [],
   "source": [
    "#import regular expressions module\n",
    "import re"
   ]
  },
  {
   "cell_type": "markdown",
   "metadata": {},
   "source": [
    "#### create a pattern object  representing a compiled regular expression using re.compile() method. Add the followign text to it: <br> 'Hello, I am studyng Deep Learning at Mt. SAC. How are you doing?'"
   ]
  },
  {
   "cell_type": "code",
   "execution_count": 2,
   "metadata": {},
   "outputs": [],
   "source": [
    "pattern = re.compile('Hello, I am studyng Deep Learning at Mt. SAC. How are you doing?')"
   ]
  },
  {
   "cell_type": "markdown",
   "metadata": {},
   "source": [
    "### print the pattern"
   ]
  },
  {
   "cell_type": "code",
   "execution_count": 3,
   "metadata": {},
   "outputs": [
    {
     "data": {
      "text/plain": [
       "re.compile(r'Hello, I am studyng Deep Learning at Mt. SAC. How are you doing?',\n",
       "           re.UNICODE)"
      ]
     },
     "execution_count": 3,
     "metadata": {},
     "output_type": "execute_result"
    }
   ],
   "source": [
    "pattern"
   ]
  },
  {
   "cell_type": "markdown",
   "metadata": {},
   "source": [
    "#### Using the search method, find the words 'Deep Learning' in the followign text: <br> 'Hello, I am studyng Deep Learning at Mt. SAC. How are you doing?'"
   ]
  },
  {
   "cell_type": "code",
   "execution_count": 4,
   "metadata": {},
   "outputs": [
    {
     "data": {
      "text/plain": [
       "<re.Match object; span=(20, 33), match='Deep Learning'>"
      ]
     },
     "execution_count": 4,
     "metadata": {},
     "output_type": "execute_result"
    }
   ],
   "source": [
    "re.search('Deep Learning', 'Hello, I am studyng Deep Learning at Mt. SAC. How are you doing?')"
   ]
  },
  {
   "cell_type": "markdown",
   "metadata": {},
   "source": [
    "#### Given the followign text, find the word 'NLP' and print the output. Hint: use re.searc() and match.group()"
   ]
  },
  {
   "cell_type": "code",
   "execution_count": 5,
   "metadata": {},
   "outputs": [
    {
     "name": "stdout",
     "output_type": "stream",
     "text": [
      "NLP\n"
     ]
    }
   ],
   "source": [
    "match = re.search('NLP', 'In this class, we will do several labs to understand NLP')\n",
    "# enter your code here:\n",
    "print(match.group())"
   ]
  },
  {
   "cell_type": "markdown",
   "metadata": {},
   "source": [
    "#### Write a function to match regular expression patterns: def find_pattern:"
   ]
  },
  {
   "cell_type": "code",
   "execution_count": 6,
   "metadata": {},
   "outputs": [],
   "source": [
    "def find_pattern(text, pattern):\n",
    "    return re.search(pattern, text)"
   ]
  },
  {
   "cell_type": "markdown",
   "metadata": {},
   "source": [
    "#### Call the function find_pattern with the following values:\n",
    "- pattern: We are learning NLP, so we can program a chatbot before the end of teh semester.\n",
    "- text: chatbot "
   ]
  },
  {
   "cell_type": "code",
   "execution_count": 7,
   "metadata": {},
   "outputs": [
    {
     "data": {
      "text/plain": [
       "<re.Match object; span=(41, 48), match='chatbot'>"
      ]
     },
     "execution_count": 7,
     "metadata": {},
     "output_type": "execute_result"
    }
   ],
   "source": [
    "find_pattern('We are learning NLP, so we can program a chatbot before the end of the semester.','chatbot')"
   ]
  },
  {
   "cell_type": "markdown",
   "metadata": {},
   "source": [
    "### What is regex?"
   ]
  },
  {
   "cell_type": "markdown",
   "metadata": {},
   "source": [
    "# Enter your answer here\n",
    "A sequence of characters that defines a search pattern for strings."
   ]
  },
  {
   "cell_type": "markdown",
   "metadata": {},
   "source": [
    "### Using the split() function, separate the words of the following text"
   ]
  },
  {
   "cell_type": "code",
   "execution_count": 9,
   "metadata": {},
   "outputs": [],
   "source": [
    "txt = \"Hello, I am studyng Deep Learning at Mt. SAC. How are you doing?\""
   ]
  },
  {
   "cell_type": "code",
   "execution_count": 10,
   "metadata": {},
   "outputs": [
    {
     "data": {
      "text/plain": [
       "['Hello',\n",
       " '',\n",
       " 'I',\n",
       " 'am',\n",
       " 'studyng',\n",
       " 'Deep',\n",
       " 'Learning',\n",
       " 'at',\n",
       " 'Mt',\n",
       " '',\n",
       " 'SAC',\n",
       " '',\n",
       " 'How',\n",
       " 'are',\n",
       " 'you',\n",
       " 'doing',\n",
       " '']"
      ]
     },
     "execution_count": 10,
     "metadata": {},
     "output_type": "execute_result"
    }
   ],
   "source": [
    "pattern = re.compile('\\W')\n",
    "pattern.split(txt)\n"
   ]
  },
  {
   "cell_type": "markdown",
   "metadata": {},
   "source": [
    "### Using the sub() Function, replace all the white-spaces with the number \"9\" "
   ]
  },
  {
   "cell_type": "code",
   "execution_count": 11,
   "metadata": {},
   "outputs": [],
   "source": [
    "txt = \"Hello, I am studyng Deep Learning at Mt. SAC. How are you doing?\""
   ]
  },
  {
   "cell_type": "code",
   "execution_count": 12,
   "metadata": {},
   "outputs": [
    {
     "data": {
      "text/plain": [
       "'Hello,9I9am9studyng9Deep9Learning9at9Mt.9SAC.9How9are9you9doing?'"
      ]
     },
     "execution_count": 12,
     "metadata": {},
     "output_type": "execute_result"
    }
   ],
   "source": [
    "pattern = re.compile('\\s')\n",
    "pattern.sub('9', txt)\n"
   ]
  },
  {
   "cell_type": "markdown",
   "metadata": {},
   "source": [
    "#### You can control the number of replacements by specifying the count parameter. \n",
    "#### replace the first two white spaces in the followign text with the number 9 and print the new text"
   ]
  },
  {
   "cell_type": "code",
   "execution_count": 13,
   "metadata": {},
   "outputs": [],
   "source": [
    "txt = \"Hello, I am studyng Deep Learning at Mt. SAC. How are you doing?\""
   ]
  },
  {
   "cell_type": "code",
   "execution_count": 14,
   "metadata": {},
   "outputs": [
    {
     "data": {
      "text/plain": [
       "('Hello,9I9am studyng Deep Learning at Mt. SAC. How are you doing?', 2)"
      ]
     },
     "execution_count": 14,
     "metadata": {},
     "output_type": "execute_result"
    }
   ],
   "source": [
    "pattern = re.compile('\\s')\n",
    "pattern.subn('9', txt, count=2)"
   ]
  },
  {
   "cell_type": "markdown",
   "metadata": {},
   "source": [
    "### What are the five most important re functions that you would be required to use most of the times are"
   ]
  },
  {
   "cell_type": "markdown",
   "metadata": {},
   "source": [
    "# Enter your answer here\n",
    "- search\n",
    "- findall\n",
    "- match\n",
    "- sub\n",
    "- compile"
   ]
  },
  {
   "cell_type": "markdown",
   "metadata": {},
   "source": [
    "### The Match object has properties and methods used to retrieve information about the search, and the result:\n",
    "\n",
    "- span() returns a tuple containing the start-, and end positions of the match.\n",
    "- string returns the string passed into the function\n",
    "- group() returns the part of the string where there was a match"
   ]
  },
  {
   "cell_type": "markdown",
   "metadata": {},
   "source": [
    "#### Using the span method, find the start and end position of the word Deep. Hint, look for the first word that has the letter \"D\""
   ]
  },
  {
   "cell_type": "code",
   "execution_count": 15,
   "metadata": {},
   "outputs": [
    {
     "data": {
      "text/plain": [
       "(20, 24)"
      ]
     },
     "execution_count": 15,
     "metadata": {},
     "output_type": "execute_result"
    }
   ],
   "source": [
    "txt = \"Hello, I am studyng Deep Learning at Mt. SAC. How are you doing?\"\n",
    "# Enter your code here\n",
    "pattern = re.compile ('Deep')\n",
    "match = pattern.search(txt)\n",
    "match.span()"
   ]
  },
  {
   "cell_type": "markdown",
   "metadata": {},
   "source": [
    "#### Display the first word that starts with the letter \"D\""
   ]
  },
  {
   "cell_type": "code",
   "execution_count": 19,
   "metadata": {},
   "outputs": [
    {
     "data": {
      "text/plain": [
       "['Deep']"
      ]
     },
     "execution_count": 19,
     "metadata": {},
     "output_type": "execute_result"
    }
   ],
   "source": [
    "txt = \"Hello, I am studyng Deep Learning at Mt. SAC. How are you doing?\"\n",
    "# Enter your code here\n",
    "re.findall(r'\\bD\\w+', txt)"
   ]
  },
  {
   "cell_type": "markdown",
   "metadata": {},
   "source": [
    "#### Create pattern object with the word \"Deep\""
   ]
  },
  {
   "cell_type": "code",
   "execution_count": 64,
   "metadata": {},
   "outputs": [],
   "source": [
    "pattern=re.compile('Deep')"
   ]
  },
  {
   "cell_type": "markdown",
   "metadata": {},
   "source": [
    "#### Create a function named: \"highlight_regex_matches\" to highlight words wiht green color"
   ]
  },
  {
   "cell_type": "code",
   "execution_count": 65,
   "metadata": {},
   "outputs": [],
   "source": [
    "#from colorama import Back, Style\n",
    "\n",
    "from colorama import Back, Style\n",
    "\n",
    "#def highlight_regex_matches(pattern, text, print_output=True):\n",
    "    #complete the function\n",
    "\n",
    "def highlight_regex_matches(pattern, text, print_output=True):\n",
    "    output = text\n",
    "    len_inc = 0\n",
    "    for match in pattern.finditer(text):\n",
    "        start, end = match.start() + len_inc, match.end() + len_inc\n",
    "        output = output[:start] + Back.GREEN + Style.BRIGHT + output[start:end] + Style.RESET_ALL + output[end:]\n",
    "        len_inc = len(output) - len(text)  \n",
    "    if print_output:\n",
    "        print(output)\n",
    "    else:\n",
    "        return output"
   ]
  },
  {
   "cell_type": "markdown",
   "metadata": {},
   "source": [
    "#### call the function with these parameters (pattern, \"Hello, I am studyng Deep Learning at Mt. SAC. How are you doing?\") <br> Make sure teh word \"Deep\" is highlighted in green."
   ]
  },
  {
   "cell_type": "code",
   "execution_count": 66,
   "metadata": {},
   "outputs": [
    {
     "name": "stdout",
     "output_type": "stream",
     "text": [
      "Hello, I am studyng \u001b[42m\u001b[1mDeep\u001b[0m Learning at Mt. SAC. How are you doing?\n"
     ]
    }
   ],
   "source": [
    "highlight_regex_matches(pattern, 'Hello, I am studyng Deep Learning at Mt. SAC. How are you doing?')"
   ]
  },
  {
   "cell_type": "markdown",
   "metadata": {},
   "source": [
    "#### Consider an example below where we have `sentence` and `sentense` spellings. We want to find all occurances of both words in the text. "
   ]
  },
  {
   "cell_type": "code",
   "execution_count": 56,
   "metadata": {},
   "outputs": [],
   "source": [
    "txt = \"\"\"when a judge sentences someone, they officially state what someone’s punishment will be. \n",
    "He was sentenced to 15 years in prison, but the officials reduce the sentense\"\"\""
   ]
  },
  {
   "cell_type": "markdown",
   "metadata": {},
   "source": [
    "#### define the pattern"
   ]
  },
  {
   "cell_type": "code",
   "execution_count": 57,
   "metadata": {},
   "outputs": [],
   "source": [
    "pattern = re.compile('senten[cs]e')"
   ]
  },
  {
   "cell_type": "markdown",
   "metadata": {},
   "source": [
    "#### find all the words in the text that match the pattern"
   ]
  },
  {
   "cell_type": "code",
   "execution_count": 58,
   "metadata": {},
   "outputs": [
    {
     "data": {
      "text/plain": [
       "['sentence', 'sentence', 'sentense']"
      ]
     },
     "execution_count": 58,
     "metadata": {},
     "output_type": "execute_result"
    }
   ],
   "source": [
    "pattern.findall(txt)"
   ]
  },
  {
   "cell_type": "markdown",
   "metadata": {},
   "source": [
    "#### Highlight all the words that match the pattern"
   ]
  },
  {
   "cell_type": "code",
   "execution_count": 59,
   "metadata": {},
   "outputs": [
    {
     "name": "stdout",
     "output_type": "stream",
     "text": [
      "when a judge \u001b[42m\u001b[1msentence\u001b[0ms someone, they officially state what someone’s punishment will be. \n",
      "He was \u001b[42m\u001b[1msentence\u001b[0md to 15 years in prison, but the officials reduce the \u001b[42m\u001b[1msentense\u001b[0m\n"
     ]
    }
   ],
   "source": [
    "highlight_regex_matches(pattern, txt)"
   ]
  },
  {
   "cell_type": "markdown",
   "metadata": {},
   "source": [
    "### List 5 Meta sequences"
   ]
  },
  {
   "cell_type": "markdown",
   "metadata": {},
   "source": [
    "# enter your answer here\n",
    "- \\s\n",
    "- \\S\n",
    "- \\d\n",
    "- \\D\n",
    "- \\w\n",
    "- \\W"
   ]
  },
  {
   "cell_type": "markdown",
   "metadata": {},
   "source": [
    "#### Read the following text"
   ]
  },
  {
   "cell_type": "code",
   "execution_count": 54,
   "metadata": {},
   "outputs": [],
   "source": [
    "txt =\"\"\"American football evolved in the United States, originating from the sports of soccer and rugby!\n",
    "The first American football match was played on November 6, 1869, between two college teams, Rutgers and Princeton,\n",
    "using rules based on the rules of soccer at the time.\n",
    "\n",
    "A set of rule changes drawn up from 1880 onward by Walter Camp,\n",
    "the \"Father of American Football\", established the snap, the line of scrimmage,\n",
    "eleven-player teams, and the concept of downs! Later rule changes legalized the forward pass,\n",
    "created the neutral zone and specified the size and shape of the football.\n",
    "\n",
    "The sport is closely related to Canadian football!\n",
    "It evolved in parallel with and at the same time as the American game,\n",
    "although its rules were developed independently from those of Camp.\n",
    "\n",
    "Most of the features that distinguish American football from rugby and soccer are also present in Canadian football.\n",
    "The two sports are considered the primary variants of gridiron football!\n",
    "\n",
    "American football is the most popular sport in the United States!\n",
    "\n",
    "The most popular forms of the game are professional and college football,\n",
    "with the other major levels being high school and youth football.\n",
    "As of 2012, nearly 1.1 million high school athletes and 70,000 college athletes play the sport in the US annually.\n",
    "\"\"\""
   ]
  },
  {
   "cell_type": "markdown",
   "metadata": {},
   "source": [
    "#### Find all the years listed in the text and display them"
   ]
  },
  {
   "cell_type": "code",
   "execution_count": 40,
   "metadata": {},
   "outputs": [],
   "source": [
    "pattern = re.compile ('[1-9]\\d\\d\\d')"
   ]
  },
  {
   "cell_type": "code",
   "execution_count": 41,
   "metadata": {},
   "outputs": [
    {
     "data": {
      "text/plain": [
       "['1869', '1880', '2012']"
      ]
     },
     "execution_count": 41,
     "metadata": {},
     "output_type": "execute_result"
    }
   ],
   "source": [
    "pattern.findall(txt)"
   ]
  },
  {
   "cell_type": "markdown",
   "metadata": {},
   "source": [
    "#### Find all the sentences which do not end with a full stop (.) in the given text."
   ]
  },
  {
   "cell_type": "code",
   "execution_count": 42,
   "metadata": {},
   "outputs": [],
   "source": [
    "pattern = re.compile(\"^.+[^\\.]$\", flags=re.M)"
   ]
  },
  {
   "cell_type": "code",
   "execution_count": 43,
   "metadata": {},
   "outputs": [
    {
     "data": {
      "text/plain": [
       "['American football evolved in the United States, originating from the sports of soccer and rugby!',\n",
       " 'The first American football match was played on November 6, 1869, between two college teams, Rutgers and Princeton,',\n",
       " 'using rules based on the rules of soccer at the time.\\n',\n",
       " 'A set of rule changes drawn up from 1880 onward by Walter Camp,',\n",
       " 'the \"Father of American Football\", established the snap, the line of scrimmage,',\n",
       " 'eleven-player teams, and the concept of downs! Later rule changes legalized the forward pass,',\n",
       " 'created the neutral zone and specified the size and shape of the football.\\n',\n",
       " 'The sport is closely related to Canadian football!',\n",
       " 'It evolved in parallel with and at the same time as the American game,',\n",
       " 'although its rules were developed independently from those of Camp.\\n',\n",
       " 'The two sports are considered the primary variants of gridiron football!\\n',\n",
       " 'American football is the most popular sport in the United States!\\n',\n",
       " 'The most popular forms of the game are professional and college football,',\n",
       " 'As of 2012, nearly 1.1 million high school athletes and 70,000 college athletes play the sport in the US annually.\\n']"
      ]
     },
     "execution_count": 43,
     "metadata": {},
     "output_type": "execute_result"
    }
   ],
   "source": [
    "pattern.findall(txt)"
   ]
  },
  {
   "cell_type": "markdown",
   "metadata": {},
   "source": [
    "#### Highlight those sentences"
   ]
  },
  {
   "cell_type": "code",
   "execution_count": 51,
   "metadata": {},
   "outputs": [
    {
     "name": "stdout",
     "output_type": "stream",
     "text": [
      "\u001b[42m\u001b[1mAmerican football evolved in the United States, originating from the sports of soccer and rugby!\u001b[0m\n",
      "\u001b[42m\u001b[1mThe first American football match was played on November 6, 1869, between two college teams, Rutgers and Princeton,\u001b[0m\n",
      "\u001b[42m\u001b[1musing rules based on the rules of soccer at the time.\n",
      "\u001b[0m\n",
      "\u001b[42m\u001b[1mA set of rule changes drawn up from 1880 onward by Walter Camp,\u001b[0m\n",
      "\u001b[42m\u001b[1mthe \"Father of American Football\", established the snap, the line of scrimmage,\u001b[0m\n",
      "\u001b[42m\u001b[1meleven-player teams, and the concept of downs! Later rule changes legalized the forward pass,\u001b[0m\n",
      "\u001b[42m\u001b[1mcreated the neutral zone and specified the size and shape of the football.\n",
      "\u001b[0m\n",
      "\u001b[42m\u001b[1mThe sport is closely related to Canadian football!\u001b[0m\n",
      "\u001b[42m\u001b[1mIt evolved in parallel with and at the same time as the American game,\u001b[0m\n",
      "\u001b[42m\u001b[1malthough its rules were developed independently from those of Camp.\n",
      "\u001b[0m\n",
      "Most of the features that distinguish American football from rugby and soccer are also present in Canadian football.\n",
      "\u001b[42m\u001b[1mThe two sports are considered the primary variants of gridiron football!\n",
      "\u001b[0m\n",
      "\u001b[42m\u001b[1mAmerican football is the most popular sport in the United States!\n",
      "\u001b[0m\n",
      "\u001b[42m\u001b[1mThe most popular forms of the game are professional and college football,\u001b[0m\n",
      "with the other major levels being high school and youth football.\n",
      "\u001b[42m\u001b[1mAs of 2012, nearly 1.1 million high school athletes and 70,000 college athletes play the sport in the US annually.\n",
      "\u001b[0m\n"
     ]
    }
   ],
   "source": [
    "highlight_regex_matches(pattern, txt)"
   ]
  },
  {
   "cell_type": "markdown",
   "metadata": {},
   "source": [
    "#### Now find out all special symbols (non-alphanumeric, non-whitespace characters)."
   ]
  },
  {
   "cell_type": "code",
   "execution_count": 55,
   "metadata": {},
   "outputs": [
    {
     "data": {
      "text/plain": [
       "[',',\n",
       " '!',\n",
       " ',',\n",
       " ',',\n",
       " ',',\n",
       " ',',\n",
       " '.',\n",
       " ',',\n",
       " '\"',\n",
       " '\"',\n",
       " ',',\n",
       " ',',\n",
       " ',',\n",
       " '-',\n",
       " ',',\n",
       " '!',\n",
       " ',',\n",
       " '.',\n",
       " '!',\n",
       " ',',\n",
       " '.',\n",
       " '.',\n",
       " '!',\n",
       " '!',\n",
       " ',',\n",
       " '.',\n",
       " ',',\n",
       " '.',\n",
       " ',',\n",
       " '.']"
      ]
     },
     "execution_count": 55,
     "metadata": {},
     "output_type": "execute_result"
    }
   ],
   "source": [
    "re.findall(\"[^\\w\\s]\", txt)"
   ]
  },
  {
   "cell_type": "markdown",
   "metadata": {},
   "source": [
    "#### Using the findall() method, check if the following text has any of the letters (a, r, n)."
   ]
  },
  {
   "cell_type": "code",
   "execution_count": 26,
   "metadata": {},
   "outputs": [
    {
     "name": "stdout",
     "output_type": "stream",
     "text": [
      "['a', 'n', 'a', 'r', 'n', 'n', 'a', 'a', 'r', 'n']\n",
      "Yes, there is at least one match!\n"
     ]
    }
   ],
   "source": [
    "txt = \"Hello, I am studyng Deep Learning at Mt. SAC. How are you doing?\"\n",
    "\n",
    "#Check if the string has any a, r, or n characters:\n",
    "\n",
    "########## your code goes here  #######################\n",
    "\n",
    "######### your code ends here   #######################\n",
    "\n",
    "print(x)\n",
    "if x:\n",
    "    print(\"Yes, there is at least one match!\")\n",
    "else:\n",
    "    print(\"No match\")"
   ]
  },
  {
   "cell_type": "markdown",
   "metadata": {},
   "source": [
    "### Other Examples"
   ]
  },
  {
   "cell_type": "markdown",
   "metadata": {},
   "source": [
    "### Search for a sequence that starts with \"he\", followed by two (any) characters, and an \"o\":"
   ]
  },
  {
   "cell_type": "code",
   "execution_count": 52,
   "metadata": {},
   "outputs": [
    {
     "data": {
      "text/plain": [
       "['hello']"
      ]
     },
     "execution_count": 52,
     "metadata": {},
     "output_type": "execute_result"
    }
   ],
   "source": [
    "txt = \"hello planet\"\n",
    "# your code goes here\n",
    "re.findall('he..o', txt)"
   ]
  },
  {
   "cell_type": "markdown",
   "metadata": {},
   "source": [
    "### Check if the string ends with \"SAC\":"
   ]
  },
  {
   "cell_type": "code",
   "execution_count": 16,
   "metadata": {},
   "outputs": [
    {
     "name": "stdout",
     "output_type": "stream",
     "text": [
      "['SAC']\n",
      "Yes, there is a match!\n"
     ]
    }
   ],
   "source": [
    "txt = \"Hello, I am studyng Deep Learning at Mt. SAC\"\n",
    "\n",
    "### your code goes here\n",
    "\n",
    "x = re.findall('SAC\\Z', txt)\n",
    "\n",
    "### your code ends here\n",
    "\n",
    "print(x)\n",
    "\n",
    "if x:\n",
    "    print(\"Yes, there is a match!\")\n",
    "else:\n",
    "    print(\"No match\")"
   ]
  },
  {
   "cell_type": "markdown",
   "metadata": {},
   "source": [
    "#### enter your full name below"
   ]
  },
  {
   "cell_type": "code",
   "execution_count": 20,
   "metadata": {},
   "outputs": [],
   "source": [
    "txt = \"John Callahan\"\n",
    "# example:\n",
    "# txt = \"Angel Hernandez\""
   ]
  },
  {
   "cell_type": "markdown",
   "metadata": {},
   "source": [
    "#### Using Named Group, extract your name and yoru last name.\n",
    "#### Create a pattern, match, and use match.group()"
   ]
  },
  {
   "cell_type": "code",
   "execution_count": 21,
   "metadata": {},
   "outputs": [],
   "source": [
    "pattern = re.compile('(?P<first>\\w+) (?P<last>\\w+)')"
   ]
  },
  {
   "cell_type": "code",
   "execution_count": 23,
   "metadata": {},
   "outputs": [],
   "source": [
    "match = pattern.match(txt)"
   ]
  },
  {
   "cell_type": "code",
   "execution_count": 24,
   "metadata": {},
   "outputs": [
    {
     "data": {
      "text/plain": [
       "'John'"
      ]
     },
     "execution_count": 24,
     "metadata": {},
     "output_type": "execute_result"
    }
   ],
   "source": [
    "match.group('first')"
   ]
  },
  {
   "cell_type": "code",
   "execution_count": 25,
   "metadata": {},
   "outputs": [
    {
     "data": {
      "text/plain": [
       "'Callahan'"
      ]
     },
     "execution_count": 25,
     "metadata": {},
     "output_type": "execute_result"
    }
   ],
   "source": [
    "match.group('last')"
   ]
  },
  {
   "cell_type": "markdown",
   "metadata": {},
   "source": [
    "#### Display your last name followed by your first name"
   ]
  },
  {
   "cell_type": "code",
   "execution_count": 26,
   "metadata": {},
   "outputs": [
    {
     "data": {
      "text/plain": [
       "'Callahan John'"
      ]
     },
     "execution_count": 26,
     "metadata": {},
     "output_type": "execute_result"
    }
   ],
   "source": [
    "pattern.sub('\\g<last> \\g<first>', txt)"
   ]
  },
  {
   "cell_type": "markdown",
   "metadata": {},
   "source": [
    "### Explain why we need regular expression"
   ]
  },
  {
   "cell_type": "markdown",
   "metadata": {},
   "source": [
    "Regular expressions are useful for information updating, search and replace operations, and text formatting.  They are useful for defining filters.  They contain a series of characters that define a pattern of text to be matched."
   ]
  }
 ],
 "metadata": {
  "kernelspec": {
   "display_name": "Python 3 (ipykernel)",
   "language": "python",
   "name": "python3"
  },
  "language_info": {
   "codemirror_mode": {
    "name": "ipython",
    "version": 3
   },
   "file_extension": ".py",
   "mimetype": "text/x-python",
   "name": "python",
   "nbconvert_exporter": "python",
   "pygments_lexer": "ipython3",
   "version": "3.11.5"
  }
 },
 "nbformat": 4,
 "nbformat_minor": 2
}
