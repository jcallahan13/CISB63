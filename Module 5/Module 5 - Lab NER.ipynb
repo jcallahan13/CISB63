{
 "cells": [
  {
   "cell_type": "markdown",
   "id": "c039610a",
   "metadata": {},
   "source": [
    "### Install spacy if needed"
   ]
  },
  {
   "cell_type": "code",
   "execution_count": 8,
   "id": "5d2993ce",
   "metadata": {},
   "outputs": [
    {
     "name": "stdout",
     "output_type": "stream",
     "text": [
      "^C\n"
     ]
    }
   ],
   "source": [
    "#!pip uninstall spacy"
   ]
  },
  {
   "cell_type": "markdown",
   "id": "8e763e01",
   "metadata": {},
   "source": [
    "#### Import spacy"
   ]
  },
  {
   "cell_type": "code",
   "execution_count": 1,
   "id": "0297c427",
   "metadata": {},
   "outputs": [],
   "source": [
    "import spacy"
   ]
  },
  {
   "cell_type": "markdown",
   "id": "6be194f4",
   "metadata": {},
   "source": [
    "### remove warnings"
   ]
  },
  {
   "cell_type": "code",
   "execution_count": 2,
   "id": "b74f4a7b",
   "metadata": {},
   "outputs": [],
   "source": [
    "import warnings\n",
    "warnings.filterwarnings ('ignore')"
   ]
  },
  {
   "cell_type": "markdown",
   "id": "026379d4",
   "metadata": {},
   "source": [
    "#### Load the small English pipeline trained on written web text (blogs, news, comments), that includes vocabulary, syntax and entities (en_core_web_sm ) and assing it to a variable called \"nlp\""
   ]
  },
  {
   "cell_type": "code",
   "execution_count": 5,
   "id": "684ae267",
   "metadata": {
    "scrolled": true
   },
   "outputs": [
    {
     "name": "stdout",
     "output_type": "stream",
     "text": [
      "Defaulting to user installation because normal site-packages is not writeable\n",
      "Collecting en-core-web-sm==3.7.1\n",
      "  Downloading https://github.com/explosion/spacy-models/releases/download/en_core_web_sm-3.7.1/en_core_web_sm-3.7.1-py3-none-any.whl (12.8 MB)\n",
      "     ---------------------------------------- 0.0/12.8 MB ? eta -:--:--\n",
      "     ---------------------------------------- 0.0/12.8 MB ? eta -:--:--\n",
      "     --------------------------------------- 0.0/12.8 MB 325.1 kB/s eta 0:00:40\n",
      "     ---------------------------------------- 0.1/12.8 MB 1.2 MB/s eta 0:00:11\n",
      "     - -------------------------------------- 0.4/12.8 MB 2.8 MB/s eta 0:00:05\n",
      "     - -------------------------------------- 0.5/12.8 MB 2.9 MB/s eta 0:00:05\n",
      "     -- ------------------------------------- 0.8/12.8 MB 3.8 MB/s eta 0:00:04\n",
      "     ----- ---------------------------------- 1.9/12.8 MB 7.5 MB/s eta 0:00:02\n",
      "     --------- ------------------------------ 2.9/12.8 MB 9.8 MB/s eta 0:00:02\n",
      "     ------------ --------------------------- 3.9/12.8 MB 11.4 MB/s eta 0:00:01\n",
      "     ------------- -------------------------- 4.4/12.8 MB 11.8 MB/s eta 0:00:01\n",
      "     ---------------- ----------------------- 5.2/12.8 MB 12.2 MB/s eta 0:00:01\n",
      "     ------------------- -------------------- 6.4/12.8 MB 14.0 MB/s eta 0:00:01\n",
      "     ----------------------- ---------------- 7.6/12.8 MB 15.7 MB/s eta 0:00:01\n",
      "     --------------------------- ------------ 8.7/12.8 MB 15.9 MB/s eta 0:00:01\n",
      "     ---------------------------- ----------- 9.2/12.8 MB 15.8 MB/s eta 0:00:01\n",
      "     ---------------------------- ----------- 9.2/12.8 MB 15.9 MB/s eta 0:00:01\n",
      "     ----------------------------- ---------- 9.4/12.8 MB 14.4 MB/s eta 0:00:01\n",
      "     ------------------------------ -------- 10.0/12.8 MB 14.2 MB/s eta 0:00:01\n",
      "     -------------------------------- ------ 10.7/12.8 MB 19.3 MB/s eta 0:00:01\n",
      "     ------------------------------------- - 12.4/12.8 MB 19.8 MB/s eta 0:00:01\n",
      "     --------------------------------------  12.8/12.8 MB 19.9 MB/s eta 0:00:01\n",
      "     --------------------------------------- 12.8/12.8 MB 18.2 MB/s eta 0:00:00\n",
      "Requirement already satisfied: spacy<3.8.0,>=3.7.2 in c:\\users\\johna\\appdata\\roaming\\python\\python311\\site-packages (from en-core-web-sm==3.7.1) (3.7.6)\n",
      "Requirement already satisfied: spacy-legacy<3.1.0,>=3.0.11 in c:\\users\\johna\\appdata\\roaming\\python\\python311\\site-packages (from spacy<3.8.0,>=3.7.2->en-core-web-sm==3.7.1) (3.0.12)\n",
      "Requirement already satisfied: spacy-loggers<2.0.0,>=1.0.0 in c:\\users\\johna\\appdata\\roaming\\python\\python311\\site-packages (from spacy<3.8.0,>=3.7.2->en-core-web-sm==3.7.1) (1.0.5)\n",
      "Requirement already satisfied: murmurhash<1.1.0,>=0.28.0 in c:\\users\\johna\\appdata\\roaming\\python\\python311\\site-packages (from spacy<3.8.0,>=3.7.2->en-core-web-sm==3.7.1) (1.0.10)\n",
      "Requirement already satisfied: cymem<2.1.0,>=2.0.2 in c:\\users\\johna\\appdata\\roaming\\python\\python311\\site-packages (from spacy<3.8.0,>=3.7.2->en-core-web-sm==3.7.1) (2.0.8)\n",
      "Requirement already satisfied: preshed<3.1.0,>=3.0.2 in c:\\users\\johna\\appdata\\roaming\\python\\python311\\site-packages (from spacy<3.8.0,>=3.7.2->en-core-web-sm==3.7.1) (3.0.9)\n",
      "Requirement already satisfied: thinc<8.3.0,>=8.2.2 in c:\\users\\johna\\appdata\\roaming\\python\\python311\\site-packages (from spacy<3.8.0,>=3.7.2->en-core-web-sm==3.7.1) (8.2.5)\n",
      "Requirement already satisfied: wasabi<1.2.0,>=0.9.1 in c:\\users\\johna\\appdata\\roaming\\python\\python311\\site-packages (from spacy<3.8.0,>=3.7.2->en-core-web-sm==3.7.1) (1.1.3)\n",
      "Requirement already satisfied: srsly<3.0.0,>=2.4.3 in c:\\users\\johna\\appdata\\roaming\\python\\python311\\site-packages (from spacy<3.8.0,>=3.7.2->en-core-web-sm==3.7.1) (2.4.8)\n",
      "Requirement already satisfied: catalogue<2.1.0,>=2.0.6 in c:\\users\\johna\\appdata\\roaming\\python\\python311\\site-packages (from spacy<3.8.0,>=3.7.2->en-core-web-sm==3.7.1) (2.0.10)\n",
      "Requirement already satisfied: weasel<0.5.0,>=0.1.0 in c:\\users\\johna\\appdata\\roaming\\python\\python311\\site-packages (from spacy<3.8.0,>=3.7.2->en-core-web-sm==3.7.1) (0.4.1)\n",
      "Requirement already satisfied: typer<1.0.0,>=0.3.0 in c:\\users\\johna\\appdata\\roaming\\python\\python311\\site-packages (from spacy<3.8.0,>=3.7.2->en-core-web-sm==3.7.1) (0.12.5)\n",
      "Requirement already satisfied: tqdm<5.0.0,>=4.38.0 in c:\\programdata\\anaconda3\\lib\\site-packages (from spacy<3.8.0,>=3.7.2->en-core-web-sm==3.7.1) (4.65.0)\n",
      "Requirement already satisfied: requests<3.0.0,>=2.13.0 in c:\\programdata\\anaconda3\\lib\\site-packages (from spacy<3.8.0,>=3.7.2->en-core-web-sm==3.7.1) (2.31.0)\n",
      "Requirement already satisfied: pydantic!=1.8,!=1.8.1,<3.0.0,>=1.7.4 in c:\\programdata\\anaconda3\\lib\\site-packages (from spacy<3.8.0,>=3.7.2->en-core-web-sm==3.7.1) (1.10.8)\n",
      "Requirement already satisfied: jinja2 in c:\\programdata\\anaconda3\\lib\\site-packages (from spacy<3.8.0,>=3.7.2->en-core-web-sm==3.7.1) (3.1.2)\n",
      "Requirement already satisfied: setuptools in c:\\programdata\\anaconda3\\lib\\site-packages (from spacy<3.8.0,>=3.7.2->en-core-web-sm==3.7.1) (68.0.0)\n",
      "Requirement already satisfied: packaging>=20.0 in c:\\programdata\\anaconda3\\lib\\site-packages (from spacy<3.8.0,>=3.7.2->en-core-web-sm==3.7.1) (23.1)\n",
      "Requirement already satisfied: langcodes<4.0.0,>=3.2.0 in c:\\users\\johna\\appdata\\roaming\\python\\python311\\site-packages (from spacy<3.8.0,>=3.7.2->en-core-web-sm==3.7.1) (3.4.1)\n",
      "Requirement already satisfied: numpy>=1.19.0 in c:\\programdata\\anaconda3\\lib\\site-packages (from spacy<3.8.0,>=3.7.2->en-core-web-sm==3.7.1) (1.24.3)\n",
      "Requirement already satisfied: language-data>=1.2 in c:\\users\\johna\\appdata\\roaming\\python\\python311\\site-packages (from langcodes<4.0.0,>=3.2.0->spacy<3.8.0,>=3.7.2->en-core-web-sm==3.7.1) (1.2.0)\n",
      "Requirement already satisfied: typing-extensions>=4.2.0 in c:\\programdata\\anaconda3\\lib\\site-packages (from pydantic!=1.8,!=1.8.1,<3.0.0,>=1.7.4->spacy<3.8.0,>=3.7.2->en-core-web-sm==3.7.1) (4.7.1)\n",
      "Requirement already satisfied: charset-normalizer<4,>=2 in c:\\programdata\\anaconda3\\lib\\site-packages (from requests<3.0.0,>=2.13.0->spacy<3.8.0,>=3.7.2->en-core-web-sm==3.7.1) (2.0.4)\n",
      "Requirement already satisfied: idna<4,>=2.5 in c:\\users\\johna\\appdata\\roaming\\python\\python311\\site-packages (from requests<3.0.0,>=2.13.0->spacy<3.8.0,>=3.7.2->en-core-web-sm==3.7.1) (2.10)\n",
      "Requirement already satisfied: urllib3<3,>=1.21.1 in c:\\programdata\\anaconda3\\lib\\site-packages (from requests<3.0.0,>=2.13.0->spacy<3.8.0,>=3.7.2->en-core-web-sm==3.7.1) (1.26.16)\n",
      "Requirement already satisfied: certifi>=2017.4.17 in c:\\programdata\\anaconda3\\lib\\site-packages (from requests<3.0.0,>=2.13.0->spacy<3.8.0,>=3.7.2->en-core-web-sm==3.7.1) (2024.7.4)\n",
      "Requirement already satisfied: blis<0.8.0,>=0.7.8 in c:\\users\\johna\\appdata\\roaming\\python\\python311\\site-packages (from thinc<8.3.0,>=8.2.2->spacy<3.8.0,>=3.7.2->en-core-web-sm==3.7.1) (0.7.11)\n",
      "Requirement already satisfied: confection<1.0.0,>=0.0.1 in c:\\users\\johna\\appdata\\roaming\\python\\python311\\site-packages (from thinc<8.3.0,>=8.2.2->spacy<3.8.0,>=3.7.2->en-core-web-sm==3.7.1) (0.1.5)\n",
      "Requirement already satisfied: colorama in c:\\programdata\\anaconda3\\lib\\site-packages (from tqdm<5.0.0,>=4.38.0->spacy<3.8.0,>=3.7.2->en-core-web-sm==3.7.1) (0.4.6)\n",
      "Requirement already satisfied: click>=8.0.0 in c:\\programdata\\anaconda3\\lib\\site-packages (from typer<1.0.0,>=0.3.0->spacy<3.8.0,>=3.7.2->en-core-web-sm==3.7.1) (8.0.4)\n",
      "Requirement already satisfied: shellingham>=1.3.0 in c:\\users\\johna\\appdata\\roaming\\python\\python311\\site-packages (from typer<1.0.0,>=0.3.0->spacy<3.8.0,>=3.7.2->en-core-web-sm==3.7.1) (1.5.4)\n",
      "Requirement already satisfied: rich>=10.11.0 in c:\\users\\johna\\appdata\\roaming\\python\\python311\\site-packages (from typer<1.0.0,>=0.3.0->spacy<3.8.0,>=3.7.2->en-core-web-sm==3.7.1) (13.8.1)\n",
      "Requirement already satisfied: cloudpathlib<1.0.0,>=0.7.0 in c:\\users\\johna\\appdata\\roaming\\python\\python311\\site-packages (from weasel<0.5.0,>=0.1.0->spacy<3.8.0,>=3.7.2->en-core-web-sm==3.7.1) (0.19.0)\n",
      "Requirement already satisfied: smart-open<8.0.0,>=5.2.1 in c:\\programdata\\anaconda3\\lib\\site-packages (from weasel<0.5.0,>=0.1.0->spacy<3.8.0,>=3.7.2->en-core-web-sm==3.7.1) (5.2.1)\n",
      "Requirement already satisfied: MarkupSafe>=2.0 in c:\\programdata\\anaconda3\\lib\\site-packages (from jinja2->spacy<3.8.0,>=3.7.2->en-core-web-sm==3.7.1) (2.1.1)\n",
      "Requirement already satisfied: marisa-trie>=0.7.7 in c:\\users\\johna\\appdata\\roaming\\python\\python311\\site-packages (from language-data>=1.2->langcodes<4.0.0,>=3.2.0->spacy<3.8.0,>=3.7.2->en-core-web-sm==3.7.1) (1.2.0)\n",
      "Requirement already satisfied: markdown-it-py>=2.2.0 in c:\\programdata\\anaconda3\\lib\\site-packages (from rich>=10.11.0->typer<1.0.0,>=0.3.0->spacy<3.8.0,>=3.7.2->en-core-web-sm==3.7.1) (2.2.0)\n",
      "Requirement already satisfied: pygments<3.0.0,>=2.13.0 in c:\\programdata\\anaconda3\\lib\\site-packages (from rich>=10.11.0->typer<1.0.0,>=0.3.0->spacy<3.8.0,>=3.7.2->en-core-web-sm==3.7.1) (2.15.1)\n",
      "Requirement already satisfied: mdurl~=0.1 in c:\\programdata\\anaconda3\\lib\\site-packages (from markdown-it-py>=2.2.0->rich>=10.11.0->typer<1.0.0,>=0.3.0->spacy<3.8.0,>=3.7.2->en-core-web-sm==3.7.1) (0.1.0)\n",
      "Installing collected packages: en-core-web-sm\n",
      "Successfully installed en-core-web-sm-3.7.1\n",
      "\u001b[38;5;2m[+] Download and installation successful\u001b[0m\n",
      "You can now load the package via spacy.load('en_core_web_sm')\n"
     ]
    }
   ],
   "source": [
    "!python -m spacy download en_core_web_sm\n",
    "#nlp = spacy.load('en_core_web_sm')"
   ]
  },
  {
   "cell_type": "code",
   "execution_count": 6,
   "id": "77965253",
   "metadata": {},
   "outputs": [],
   "source": [
    "nlp = spacy.load('en_core_web_sm')"
   ]
  },
  {
   "cell_type": "markdown",
   "id": "5500ac91",
   "metadata": {},
   "source": [
    "#### Create s spaCy Doc"
   ]
  },
  {
   "cell_type": "code",
   "execution_count": 7,
   "id": "f3b31959",
   "metadata": {},
   "outputs": [],
   "source": [
    "document = nlp('Machine learning (ML) is an important tool for the goal of leveraging technologies around' +\n",
    "               'artificial intelligence. ' +\n",
    "               'Because of its learning and decision-making abilities, ' +\n",
    "               'machine learning is often referred to as AI, though, in reality, ' +\n",
    "               'it is a subdivision of AI. Until the late 1970s, it was a part of AI’s evolution. ' +\n",
    "               'Then, it branched off to evolve on its own. ' +\n",
    "               \n",
    "               'Machine learning has become a very important response tool ' +\n",
    "               'for cloud computing and eCommerce, and is being used in a variety of cutting edge technologies.' +\n",
    "\n",
    "               'Machine learning is a necessary aspect of modern business and research ' +\n",
    "               'for many organizations today. ' +\n",
    "               'It uses algorithms and neural network models to assist computer systems ' +\n",
    "               'in progressively improving their performance. ' +\n",
    "               'Machine learning algorithms automatically build a mathematical model ' +\n",
    "               'using sample data – also known as “training data” – ' +\n",
    "               'to make decisions without being specifically programmed to make those decisions.')"
   ]
  },
  {
   "cell_type": "markdown",
   "id": "a07f3495",
   "metadata": {},
   "source": [
    "#### Using a for loop, get the Named Entities from the document"
   ]
  },
  {
   "cell_type": "code",
   "execution_count": 8,
   "id": "83043877",
   "metadata": {},
   "outputs": [
    {
     "name": "stdout",
     "output_type": "stream",
     "text": [
      "ML: ORG\n",
      "AI: ORG\n",
      "AI: ORG\n",
      "the late 1970s: DATE\n",
      "AI: ORG\n",
      "eCommerce: PRODUCT\n",
      "today: DATE\n"
     ]
    }
   ],
   "source": [
    "for entity in document.ents:\n",
    "    print(f'{entity.text}: {entity.label_}')"
   ]
  },
  {
   "cell_type": "markdown",
   "id": "6b6ad786",
   "metadata": {},
   "source": [
    "#### Do you agree with the results?"
   ]
  },
  {
   "cell_type": "markdown",
   "id": "a3b80252",
   "metadata": {},
   "source": [
    "I question ML and AI being tagged as ORG.  The rest I agree with."
   ]
  },
  {
   "cell_type": "markdown",
   "id": "57a66a57",
   "metadata": {},
   "source": [
    "#### Create a new doucument "
   ]
  },
  {
   "cell_type": "code",
   "execution_count": 9,
   "id": "639acbb5",
   "metadata": {},
   "outputs": [],
   "source": [
    "document = nlp(\"\"\"Legend of the Bermuda Triangle\n",
    "The area referred to as the Bermuda Triangle, or Devil’s Triangle, \n",
    "covers about 500,000 square miles of ocean off the southeastern tip of Florida. \n",
    "When Christopher Columbus sailed through the area on his first voyage to the New World, \n",
    "he reported that a great flame of fire (probably a meteor) crashed into the sea \n",
    "one night and that a strange light appeared in the distance a few weeks later. \n",
    "He also wrote about erratic compass readings, \n",
    "perhaps because at that time a sliver of the Bermuda Triangle was one of the few places on Earth \n",
    "where true north and magnetic north lined up.\"\"\")"
   ]
  },
  {
   "cell_type": "markdown",
   "id": "dc3a58cf",
   "metadata": {},
   "source": [
    "#### Using a for loop, get the Named Entities"
   ]
  },
  {
   "cell_type": "code",
   "execution_count": 10,
   "id": "38d0068c",
   "metadata": {},
   "outputs": [
    {
     "name": "stdout",
     "output_type": "stream",
     "text": [
      "Triangle: ORG\n",
      "about 500,000 square miles: QUANTITY\n",
      "Florida: GPE\n",
      "Christopher Columbus: PERSON\n",
      "first: ORDINAL\n",
      "the New World: ORG\n",
      "one night: TIME\n",
      "a few weeks later: DATE\n",
      "the Bermuda Triangle: PRODUCT\n",
      "one: CARDINAL\n",
      "Earth: LOC\n"
     ]
    }
   ],
   "source": [
    "for entity in document.ents:\n",
    "    print(f'{entity.text}: {entity.label_}')"
   ]
  },
  {
   "cell_type": "markdown",
   "id": "75a56387",
   "metadata": {},
   "source": [
    "#### Do you believe the Named Entities of this document are more accurate than the previous ones?"
   ]
  },
  {
   "cell_type": "markdown",
   "id": "dc7efe5d",
   "metadata": {},
   "source": [
    "I do belive the Named Entities of this document are a bit more accurate than the previous.  The only one I question here is \"the Bermuda Triangle\" which it labelled as a PRODUCT."
   ]
  },
  {
   "cell_type": "markdown",
   "id": "e44456b8",
   "metadata": {},
   "source": [
    "#### POS-tagging and Lemmatization:\n",
    "You can establish the lemma for each token as well as its part of speech. Use the token.lemma_ method for lemmas and the token.pos_ method for parts of speech."
   ]
  },
  {
   "cell_type": "markdown",
   "id": "baec39df",
   "metadata": {},
   "source": [
    "#### Display the text, lemma, and POS for each token of the above document. <br> hint: use a for loop; for token in document"
   ]
  },
  {
   "cell_type": "code",
   "execution_count": 11,
   "id": "d58e79ed",
   "metadata": {},
   "outputs": [
    {
     "name": "stdout",
     "output_type": "stream",
     "text": [
      "Legend - legend - NOUN\n",
      "of - of - ADP\n",
      "the - the - DET\n",
      "Bermuda - Bermuda - PROPN\n",
      "Triangle - Triangle - PROPN\n",
      "\n",
      " - \n",
      " - SPACE\n",
      "The - the - DET\n",
      "area - area - NOUN\n",
      "referred - refer - VERB\n",
      "to - to - ADP\n",
      "as - as - SCONJ\n",
      "the - the - DET\n",
      "Bermuda - Bermuda - PROPN\n",
      "Triangle - Triangle - PROPN\n",
      ", - , - PUNCT\n",
      "or - or - CCONJ\n",
      "Devil - Devil - PROPN\n",
      "’s - ’s - PART\n",
      "Triangle - Triangle - PROPN\n",
      ", - , - PUNCT\n",
      "\n",
      " - \n",
      " - SPACE\n",
      "covers - cover - VERB\n",
      "about - about - ADV\n",
      "500,000 - 500,000 - NUM\n",
      "square - square - ADJ\n",
      "miles - mile - NOUN\n",
      "of - of - ADP\n",
      "ocean - ocean - NOUN\n",
      "off - off - ADP\n",
      "the - the - DET\n",
      "southeastern - southeastern - ADJ\n",
      "tip - tip - NOUN\n",
      "of - of - ADP\n",
      "Florida - Florida - PROPN\n",
      ". - . - PUNCT\n",
      "\n",
      " - \n",
      " - SPACE\n",
      "When - when - SCONJ\n",
      "Christopher - Christopher - PROPN\n",
      "Columbus - Columbus - PROPN\n",
      "sailed - sail - VERB\n",
      "through - through - ADP\n",
      "the - the - DET\n",
      "area - area - NOUN\n",
      "on - on - ADP\n",
      "his - his - PRON\n",
      "first - first - ADJ\n",
      "voyage - voyage - NOUN\n",
      "to - to - ADP\n",
      "the - the - DET\n",
      "New - New - PROPN\n",
      "World - World - PROPN\n",
      ", - , - PUNCT\n",
      "\n",
      " - \n",
      " - SPACE\n",
      "he - he - PRON\n",
      "reported - report - VERB\n",
      "that - that - SCONJ\n",
      "a - a - DET\n",
      "great - great - ADJ\n",
      "flame - flame - NOUN\n",
      "of - of - ADP\n",
      "fire - fire - NOUN\n",
      "( - ( - PUNCT\n",
      "probably - probably - ADV\n",
      "a - a - DET\n",
      "meteor - meteor - NOUN\n",
      ") - ) - PUNCT\n",
      "crashed - crash - VERB\n",
      "into - into - ADP\n",
      "the - the - DET\n",
      "sea - sea - NOUN\n",
      "\n",
      " - \n",
      " - SPACE\n",
      "one - one - NUM\n",
      "night - night - NOUN\n",
      "and - and - CCONJ\n",
      "that - that - SCONJ\n",
      "a - a - DET\n",
      "strange - strange - ADJ\n",
      "light - light - NOUN\n",
      "appeared - appear - VERB\n",
      "in - in - ADP\n",
      "the - the - DET\n",
      "distance - distance - NOUN\n",
      "a - a - DET\n",
      "few - few - ADJ\n",
      "weeks - week - NOUN\n",
      "later - later - ADV\n",
      ". - . - PUNCT\n",
      "\n",
      " - \n",
      " - SPACE\n",
      "He - he - PRON\n",
      "also - also - ADV\n",
      "wrote - write - VERB\n",
      "about - about - ADP\n",
      "erratic - erratic - ADJ\n",
      "compass - compass - NOUN\n",
      "readings - reading - NOUN\n",
      ", - , - PUNCT\n",
      "\n",
      " - \n",
      " - SPACE\n",
      "perhaps - perhaps - ADV\n",
      "because - because - SCONJ\n",
      "at - at - ADP\n",
      "that - that - DET\n",
      "time - time - NOUN\n",
      "a - a - DET\n",
      "sliver - sliver - NOUN\n",
      "of - of - ADP\n",
      "the - the - DET\n",
      "Bermuda - Bermuda - PROPN\n",
      "Triangle - Triangle - PROPN\n",
      "was - be - AUX\n",
      "one - one - NUM\n",
      "of - of - ADP\n",
      "the - the - DET\n",
      "few - few - ADJ\n",
      "places - place - NOUN\n",
      "on - on - ADP\n",
      "Earth - Earth - PROPN\n",
      "\n",
      " - \n",
      " - SPACE\n",
      "where - where - SCONJ\n",
      "true - true - ADJ\n",
      "north - north - NOUN\n",
      "and - and - CCONJ\n",
      "magnetic - magnetic - ADJ\n",
      "north - north - NOUN\n",
      "lined - line - VERB\n",
      "up - up - ADP\n",
      ". - . - PUNCT\n"
     ]
    }
   ],
   "source": [
    "for i in document:\n",
    "    print(\"{0} - {1} - {2}\".format(i.text, i.lemma_, i.pos_))"
   ]
  },
  {
   "cell_type": "markdown",
   "id": "2c8d184e",
   "metadata": {},
   "source": [
    "#### Usign spaCy, explain the meaning of the followign tags:\n",
    "- ORG\n",
    "- LAW\n",
    "- FAC\n",
    "- ORDINAL"
   ]
  },
  {
   "cell_type": "code",
   "execution_count": 12,
   "id": "bfd3b693",
   "metadata": {},
   "outputs": [
    {
     "name": "stdout",
     "output_type": "stream",
     "text": [
      "Companies, agencies, institutions, etc.\n"
     ]
    }
   ],
   "source": [
    "print(spacy.explain('ORG'))"
   ]
  },
  {
   "cell_type": "code",
   "execution_count": 13,
   "id": "017981ce",
   "metadata": {},
   "outputs": [
    {
     "name": "stdout",
     "output_type": "stream",
     "text": [
      "Named documents made into laws.\n"
     ]
    }
   ],
   "source": [
    "print(spacy.explain('LAW'))"
   ]
  },
  {
   "cell_type": "code",
   "execution_count": 14,
   "id": "1df803b0",
   "metadata": {},
   "outputs": [
    {
     "name": "stdout",
     "output_type": "stream",
     "text": [
      "Buildings, airports, highways, bridges, etc.\n"
     ]
    }
   ],
   "source": [
    "print(spacy.explain('FAC'))"
   ]
  },
  {
   "cell_type": "code",
   "execution_count": 15,
   "id": "652d576a",
   "metadata": {},
   "outputs": [
    {
     "name": "stdout",
     "output_type": "stream",
     "text": [
      "\"first\", \"second\", etc.\n"
     ]
    }
   ],
   "source": [
    "print(spacy.explain('ORDINAL'))"
   ]
  },
  {
   "cell_type": "markdown",
   "id": "1b561c48",
   "metadata": {},
   "source": [
    "#### import displacy from spacy "
   ]
  },
  {
   "cell_type": "code",
   "execution_count": 16,
   "id": "bf94d817",
   "metadata": {},
   "outputs": [],
   "source": [
    "from spacy import displacy"
   ]
  },
  {
   "cell_type": "markdown",
   "id": "c1cba8cb",
   "metadata": {},
   "source": [
    "#### Visualize dependencies for the following text using style='deep'. Assign the text to a variable called \"document\" Then use displacy.render\n",
    "\n",
    "#### The Los Angeles Rams ended the 2021 season atop the NFL world, as they defeated the Cincinnati Bengals in Super Bowl LVI 23-20."
   ]
  },
  {
   "cell_type": "code",
   "execution_count": 17,
   "id": "d69773d6",
   "metadata": {},
   "outputs": [],
   "source": [
    "document = nlp(\"The Los Angeles Rams ended the 2021 season atop the NFL world,\" + \n",
    "            \" as they defeated the Cincinnati Bengals in Super Bowl LVI 23-20.\")"
   ]
  },
  {
   "cell_type": "markdown",
   "id": "ece5fcc8",
   "metadata": {},
   "source": [
    "#### use display.render with style=\"dep\""
   ]
  },
  {
   "cell_type": "code",
   "execution_count": 18,
   "id": "5a8d2332",
   "metadata": {},
   "outputs": [
    {
     "data": {
      "text/html": [
       "<span class=\"tex2jax_ignore\"><svg xmlns=\"http://www.w3.org/2000/svg\" xmlns:xlink=\"http://www.w3.org/1999/xlink\" xml:lang=\"en\" id=\"4a2110a4721d4ff296047531dca39233-0\" class=\"displacy\" width=\"4250\" height=\"574.5\" direction=\"ltr\" style=\"max-width: none; height: 574.5px; color: #000000; background: #ffffff; font-family: Arial; direction: ltr\">\n",
       "<text class=\"displacy-token\" fill=\"currentColor\" text-anchor=\"middle\" y=\"484.5\">\n",
       "    <tspan class=\"displacy-word\" fill=\"currentColor\" x=\"50\">The</tspan>\n",
       "    <tspan class=\"displacy-tag\" dy=\"2em\" fill=\"currentColor\" x=\"50\">DET</tspan>\n",
       "</text>\n",
       "\n",
       "<text class=\"displacy-token\" fill=\"currentColor\" text-anchor=\"middle\" y=\"484.5\">\n",
       "    <tspan class=\"displacy-word\" fill=\"currentColor\" x=\"225\">Los</tspan>\n",
       "    <tspan class=\"displacy-tag\" dy=\"2em\" fill=\"currentColor\" x=\"225\">PROPN</tspan>\n",
       "</text>\n",
       "\n",
       "<text class=\"displacy-token\" fill=\"currentColor\" text-anchor=\"middle\" y=\"484.5\">\n",
       "    <tspan class=\"displacy-word\" fill=\"currentColor\" x=\"400\">Angeles</tspan>\n",
       "    <tspan class=\"displacy-tag\" dy=\"2em\" fill=\"currentColor\" x=\"400\">PROPN</tspan>\n",
       "</text>\n",
       "\n",
       "<text class=\"displacy-token\" fill=\"currentColor\" text-anchor=\"middle\" y=\"484.5\">\n",
       "    <tspan class=\"displacy-word\" fill=\"currentColor\" x=\"575\">Rams</tspan>\n",
       "    <tspan class=\"displacy-tag\" dy=\"2em\" fill=\"currentColor\" x=\"575\">PROPN</tspan>\n",
       "</text>\n",
       "\n",
       "<text class=\"displacy-token\" fill=\"currentColor\" text-anchor=\"middle\" y=\"484.5\">\n",
       "    <tspan class=\"displacy-word\" fill=\"currentColor\" x=\"750\">ended</tspan>\n",
       "    <tspan class=\"displacy-tag\" dy=\"2em\" fill=\"currentColor\" x=\"750\">VERB</tspan>\n",
       "</text>\n",
       "\n",
       "<text class=\"displacy-token\" fill=\"currentColor\" text-anchor=\"middle\" y=\"484.5\">\n",
       "    <tspan class=\"displacy-word\" fill=\"currentColor\" x=\"925\">the</tspan>\n",
       "    <tspan class=\"displacy-tag\" dy=\"2em\" fill=\"currentColor\" x=\"925\">DET</tspan>\n",
       "</text>\n",
       "\n",
       "<text class=\"displacy-token\" fill=\"currentColor\" text-anchor=\"middle\" y=\"484.5\">\n",
       "    <tspan class=\"displacy-word\" fill=\"currentColor\" x=\"1100\">2021</tspan>\n",
       "    <tspan class=\"displacy-tag\" dy=\"2em\" fill=\"currentColor\" x=\"1100\">NUM</tspan>\n",
       "</text>\n",
       "\n",
       "<text class=\"displacy-token\" fill=\"currentColor\" text-anchor=\"middle\" y=\"484.5\">\n",
       "    <tspan class=\"displacy-word\" fill=\"currentColor\" x=\"1275\">season</tspan>\n",
       "    <tspan class=\"displacy-tag\" dy=\"2em\" fill=\"currentColor\" x=\"1275\">NOUN</tspan>\n",
       "</text>\n",
       "\n",
       "<text class=\"displacy-token\" fill=\"currentColor\" text-anchor=\"middle\" y=\"484.5\">\n",
       "    <tspan class=\"displacy-word\" fill=\"currentColor\" x=\"1450\">atop</tspan>\n",
       "    <tspan class=\"displacy-tag\" dy=\"2em\" fill=\"currentColor\" x=\"1450\">ADP</tspan>\n",
       "</text>\n",
       "\n",
       "<text class=\"displacy-token\" fill=\"currentColor\" text-anchor=\"middle\" y=\"484.5\">\n",
       "    <tspan class=\"displacy-word\" fill=\"currentColor\" x=\"1625\">the</tspan>\n",
       "    <tspan class=\"displacy-tag\" dy=\"2em\" fill=\"currentColor\" x=\"1625\">DET</tspan>\n",
       "</text>\n",
       "\n",
       "<text class=\"displacy-token\" fill=\"currentColor\" text-anchor=\"middle\" y=\"484.5\">\n",
       "    <tspan class=\"displacy-word\" fill=\"currentColor\" x=\"1800\">NFL</tspan>\n",
       "    <tspan class=\"displacy-tag\" dy=\"2em\" fill=\"currentColor\" x=\"1800\">PROPN</tspan>\n",
       "</text>\n",
       "\n",
       "<text class=\"displacy-token\" fill=\"currentColor\" text-anchor=\"middle\" y=\"484.5\">\n",
       "    <tspan class=\"displacy-word\" fill=\"currentColor\" x=\"1975\">world,</tspan>\n",
       "    <tspan class=\"displacy-tag\" dy=\"2em\" fill=\"currentColor\" x=\"1975\">NOUN</tspan>\n",
       "</text>\n",
       "\n",
       "<text class=\"displacy-token\" fill=\"currentColor\" text-anchor=\"middle\" y=\"484.5\">\n",
       "    <tspan class=\"displacy-word\" fill=\"currentColor\" x=\"2150\">as</tspan>\n",
       "    <tspan class=\"displacy-tag\" dy=\"2em\" fill=\"currentColor\" x=\"2150\">SCONJ</tspan>\n",
       "</text>\n",
       "\n",
       "<text class=\"displacy-token\" fill=\"currentColor\" text-anchor=\"middle\" y=\"484.5\">\n",
       "    <tspan class=\"displacy-word\" fill=\"currentColor\" x=\"2325\">they</tspan>\n",
       "    <tspan class=\"displacy-tag\" dy=\"2em\" fill=\"currentColor\" x=\"2325\">PRON</tspan>\n",
       "</text>\n",
       "\n",
       "<text class=\"displacy-token\" fill=\"currentColor\" text-anchor=\"middle\" y=\"484.5\">\n",
       "    <tspan class=\"displacy-word\" fill=\"currentColor\" x=\"2500\">defeated</tspan>\n",
       "    <tspan class=\"displacy-tag\" dy=\"2em\" fill=\"currentColor\" x=\"2500\">VERB</tspan>\n",
       "</text>\n",
       "\n",
       "<text class=\"displacy-token\" fill=\"currentColor\" text-anchor=\"middle\" y=\"484.5\">\n",
       "    <tspan class=\"displacy-word\" fill=\"currentColor\" x=\"2675\">the</tspan>\n",
       "    <tspan class=\"displacy-tag\" dy=\"2em\" fill=\"currentColor\" x=\"2675\">DET</tspan>\n",
       "</text>\n",
       "\n",
       "<text class=\"displacy-token\" fill=\"currentColor\" text-anchor=\"middle\" y=\"484.5\">\n",
       "    <tspan class=\"displacy-word\" fill=\"currentColor\" x=\"2850\">Cincinnati</tspan>\n",
       "    <tspan class=\"displacy-tag\" dy=\"2em\" fill=\"currentColor\" x=\"2850\">PROPN</tspan>\n",
       "</text>\n",
       "\n",
       "<text class=\"displacy-token\" fill=\"currentColor\" text-anchor=\"middle\" y=\"484.5\">\n",
       "    <tspan class=\"displacy-word\" fill=\"currentColor\" x=\"3025\">Bengals</tspan>\n",
       "    <tspan class=\"displacy-tag\" dy=\"2em\" fill=\"currentColor\" x=\"3025\">PROPN</tspan>\n",
       "</text>\n",
       "\n",
       "<text class=\"displacy-token\" fill=\"currentColor\" text-anchor=\"middle\" y=\"484.5\">\n",
       "    <tspan class=\"displacy-word\" fill=\"currentColor\" x=\"3200\">in</tspan>\n",
       "    <tspan class=\"displacy-tag\" dy=\"2em\" fill=\"currentColor\" x=\"3200\">ADP</tspan>\n",
       "</text>\n",
       "\n",
       "<text class=\"displacy-token\" fill=\"currentColor\" text-anchor=\"middle\" y=\"484.5\">\n",
       "    <tspan class=\"displacy-word\" fill=\"currentColor\" x=\"3375\">Super</tspan>\n",
       "    <tspan class=\"displacy-tag\" dy=\"2em\" fill=\"currentColor\" x=\"3375\">PROPN</tspan>\n",
       "</text>\n",
       "\n",
       "<text class=\"displacy-token\" fill=\"currentColor\" text-anchor=\"middle\" y=\"484.5\">\n",
       "    <tspan class=\"displacy-word\" fill=\"currentColor\" x=\"3550\">Bowl</tspan>\n",
       "    <tspan class=\"displacy-tag\" dy=\"2em\" fill=\"currentColor\" x=\"3550\">PROPN</tspan>\n",
       "</text>\n",
       "\n",
       "<text class=\"displacy-token\" fill=\"currentColor\" text-anchor=\"middle\" y=\"484.5\">\n",
       "    <tspan class=\"displacy-word\" fill=\"currentColor\" x=\"3725\">LVI</tspan>\n",
       "    <tspan class=\"displacy-tag\" dy=\"2em\" fill=\"currentColor\" x=\"3725\">PROPN</tspan>\n",
       "</text>\n",
       "\n",
       "<text class=\"displacy-token\" fill=\"currentColor\" text-anchor=\"middle\" y=\"484.5\">\n",
       "    <tspan class=\"displacy-word\" fill=\"currentColor\" x=\"3900\">23-</tspan>\n",
       "    <tspan class=\"displacy-tag\" dy=\"2em\" fill=\"currentColor\" x=\"3900\">NUM</tspan>\n",
       "</text>\n",
       "\n",
       "<text class=\"displacy-token\" fill=\"currentColor\" text-anchor=\"middle\" y=\"484.5\">\n",
       "    <tspan class=\"displacy-word\" fill=\"currentColor\" x=\"4075\">20.</tspan>\n",
       "    <tspan class=\"displacy-tag\" dy=\"2em\" fill=\"currentColor\" x=\"4075\">NUM</tspan>\n",
       "</text>\n",
       "\n",
       "<g class=\"displacy-arrow\">\n",
       "    <path class=\"displacy-arc\" id=\"arrow-4a2110a4721d4ff296047531dca39233-0-0\" stroke-width=\"2px\" d=\"M70,439.5 C70,264.5 560.0,264.5 560.0,439.5\" fill=\"none\" stroke=\"currentColor\"/>\n",
       "    <text dy=\"1.25em\" style=\"font-size: 0.8em; letter-spacing: 1px\">\n",
       "        <textPath xlink:href=\"#arrow-4a2110a4721d4ff296047531dca39233-0-0\" class=\"displacy-label\" startOffset=\"50%\" side=\"left\" fill=\"currentColor\" text-anchor=\"middle\">det</textPath>\n",
       "    </text>\n",
       "    <path class=\"displacy-arrowhead\" d=\"M70,441.5 L62,429.5 78,429.5\" fill=\"currentColor\"/>\n",
       "</g>\n",
       "\n",
       "<g class=\"displacy-arrow\">\n",
       "    <path class=\"displacy-arc\" id=\"arrow-4a2110a4721d4ff296047531dca39233-0-1\" stroke-width=\"2px\" d=\"M245,439.5 C245,352.0 380.0,352.0 380.0,439.5\" fill=\"none\" stroke=\"currentColor\"/>\n",
       "    <text dy=\"1.25em\" style=\"font-size: 0.8em; letter-spacing: 1px\">\n",
       "        <textPath xlink:href=\"#arrow-4a2110a4721d4ff296047531dca39233-0-1\" class=\"displacy-label\" startOffset=\"50%\" side=\"left\" fill=\"currentColor\" text-anchor=\"middle\">compound</textPath>\n",
       "    </text>\n",
       "    <path class=\"displacy-arrowhead\" d=\"M245,441.5 L237,429.5 253,429.5\" fill=\"currentColor\"/>\n",
       "</g>\n",
       "\n",
       "<g class=\"displacy-arrow\">\n",
       "    <path class=\"displacy-arc\" id=\"arrow-4a2110a4721d4ff296047531dca39233-0-2\" stroke-width=\"2px\" d=\"M420,439.5 C420,352.0 555.0,352.0 555.0,439.5\" fill=\"none\" stroke=\"currentColor\"/>\n",
       "    <text dy=\"1.25em\" style=\"font-size: 0.8em; letter-spacing: 1px\">\n",
       "        <textPath xlink:href=\"#arrow-4a2110a4721d4ff296047531dca39233-0-2\" class=\"displacy-label\" startOffset=\"50%\" side=\"left\" fill=\"currentColor\" text-anchor=\"middle\">compound</textPath>\n",
       "    </text>\n",
       "    <path class=\"displacy-arrowhead\" d=\"M420,441.5 L412,429.5 428,429.5\" fill=\"currentColor\"/>\n",
       "</g>\n",
       "\n",
       "<g class=\"displacy-arrow\">\n",
       "    <path class=\"displacy-arc\" id=\"arrow-4a2110a4721d4ff296047531dca39233-0-3\" stroke-width=\"2px\" d=\"M595,439.5 C595,352.0 730.0,352.0 730.0,439.5\" fill=\"none\" stroke=\"currentColor\"/>\n",
       "    <text dy=\"1.25em\" style=\"font-size: 0.8em; letter-spacing: 1px\">\n",
       "        <textPath xlink:href=\"#arrow-4a2110a4721d4ff296047531dca39233-0-3\" class=\"displacy-label\" startOffset=\"50%\" side=\"left\" fill=\"currentColor\" text-anchor=\"middle\">nsubj</textPath>\n",
       "    </text>\n",
       "    <path class=\"displacy-arrowhead\" d=\"M595,441.5 L587,429.5 603,429.5\" fill=\"currentColor\"/>\n",
       "</g>\n",
       "\n",
       "<g class=\"displacy-arrow\">\n",
       "    <path class=\"displacy-arc\" id=\"arrow-4a2110a4721d4ff296047531dca39233-0-4\" stroke-width=\"2px\" d=\"M945,439.5 C945,264.5 1260.0,264.5 1260.0,439.5\" fill=\"none\" stroke=\"currentColor\"/>\n",
       "    <text dy=\"1.25em\" style=\"font-size: 0.8em; letter-spacing: 1px\">\n",
       "        <textPath xlink:href=\"#arrow-4a2110a4721d4ff296047531dca39233-0-4\" class=\"displacy-label\" startOffset=\"50%\" side=\"left\" fill=\"currentColor\" text-anchor=\"middle\">det</textPath>\n",
       "    </text>\n",
       "    <path class=\"displacy-arrowhead\" d=\"M945,441.5 L937,429.5 953,429.5\" fill=\"currentColor\"/>\n",
       "</g>\n",
       "\n",
       "<g class=\"displacy-arrow\">\n",
       "    <path class=\"displacy-arc\" id=\"arrow-4a2110a4721d4ff296047531dca39233-0-5\" stroke-width=\"2px\" d=\"M1120,439.5 C1120,352.0 1255.0,352.0 1255.0,439.5\" fill=\"none\" stroke=\"currentColor\"/>\n",
       "    <text dy=\"1.25em\" style=\"font-size: 0.8em; letter-spacing: 1px\">\n",
       "        <textPath xlink:href=\"#arrow-4a2110a4721d4ff296047531dca39233-0-5\" class=\"displacy-label\" startOffset=\"50%\" side=\"left\" fill=\"currentColor\" text-anchor=\"middle\">nummod</textPath>\n",
       "    </text>\n",
       "    <path class=\"displacy-arrowhead\" d=\"M1120,441.5 L1112,429.5 1128,429.5\" fill=\"currentColor\"/>\n",
       "</g>\n",
       "\n",
       "<g class=\"displacy-arrow\">\n",
       "    <path class=\"displacy-arc\" id=\"arrow-4a2110a4721d4ff296047531dca39233-0-6\" stroke-width=\"2px\" d=\"M770,439.5 C770,177.0 1265.0,177.0 1265.0,439.5\" fill=\"none\" stroke=\"currentColor\"/>\n",
       "    <text dy=\"1.25em\" style=\"font-size: 0.8em; letter-spacing: 1px\">\n",
       "        <textPath xlink:href=\"#arrow-4a2110a4721d4ff296047531dca39233-0-6\" class=\"displacy-label\" startOffset=\"50%\" side=\"left\" fill=\"currentColor\" text-anchor=\"middle\">dobj</textPath>\n",
       "    </text>\n",
       "    <path class=\"displacy-arrowhead\" d=\"M1265.0,441.5 L1273.0,429.5 1257.0,429.5\" fill=\"currentColor\"/>\n",
       "</g>\n",
       "\n",
       "<g class=\"displacy-arrow\">\n",
       "    <path class=\"displacy-arc\" id=\"arrow-4a2110a4721d4ff296047531dca39233-0-7\" stroke-width=\"2px\" d=\"M770,439.5 C770,89.5 1445.0,89.5 1445.0,439.5\" fill=\"none\" stroke=\"currentColor\"/>\n",
       "    <text dy=\"1.25em\" style=\"font-size: 0.8em; letter-spacing: 1px\">\n",
       "        <textPath xlink:href=\"#arrow-4a2110a4721d4ff296047531dca39233-0-7\" class=\"displacy-label\" startOffset=\"50%\" side=\"left\" fill=\"currentColor\" text-anchor=\"middle\">prep</textPath>\n",
       "    </text>\n",
       "    <path class=\"displacy-arrowhead\" d=\"M1445.0,441.5 L1453.0,429.5 1437.0,429.5\" fill=\"currentColor\"/>\n",
       "</g>\n",
       "\n",
       "<g class=\"displacy-arrow\">\n",
       "    <path class=\"displacy-arc\" id=\"arrow-4a2110a4721d4ff296047531dca39233-0-8\" stroke-width=\"2px\" d=\"M1645,439.5 C1645,264.5 1960.0,264.5 1960.0,439.5\" fill=\"none\" stroke=\"currentColor\"/>\n",
       "    <text dy=\"1.25em\" style=\"font-size: 0.8em; letter-spacing: 1px\">\n",
       "        <textPath xlink:href=\"#arrow-4a2110a4721d4ff296047531dca39233-0-8\" class=\"displacy-label\" startOffset=\"50%\" side=\"left\" fill=\"currentColor\" text-anchor=\"middle\">det</textPath>\n",
       "    </text>\n",
       "    <path class=\"displacy-arrowhead\" d=\"M1645,441.5 L1637,429.5 1653,429.5\" fill=\"currentColor\"/>\n",
       "</g>\n",
       "\n",
       "<g class=\"displacy-arrow\">\n",
       "    <path class=\"displacy-arc\" id=\"arrow-4a2110a4721d4ff296047531dca39233-0-9\" stroke-width=\"2px\" d=\"M1820,439.5 C1820,352.0 1955.0,352.0 1955.0,439.5\" fill=\"none\" stroke=\"currentColor\"/>\n",
       "    <text dy=\"1.25em\" style=\"font-size: 0.8em; letter-spacing: 1px\">\n",
       "        <textPath xlink:href=\"#arrow-4a2110a4721d4ff296047531dca39233-0-9\" class=\"displacy-label\" startOffset=\"50%\" side=\"left\" fill=\"currentColor\" text-anchor=\"middle\">compound</textPath>\n",
       "    </text>\n",
       "    <path class=\"displacy-arrowhead\" d=\"M1820,441.5 L1812,429.5 1828,429.5\" fill=\"currentColor\"/>\n",
       "</g>\n",
       "\n",
       "<g class=\"displacy-arrow\">\n",
       "    <path class=\"displacy-arc\" id=\"arrow-4a2110a4721d4ff296047531dca39233-0-10\" stroke-width=\"2px\" d=\"M1470,439.5 C1470,177.0 1965.0,177.0 1965.0,439.5\" fill=\"none\" stroke=\"currentColor\"/>\n",
       "    <text dy=\"1.25em\" style=\"font-size: 0.8em; letter-spacing: 1px\">\n",
       "        <textPath xlink:href=\"#arrow-4a2110a4721d4ff296047531dca39233-0-10\" class=\"displacy-label\" startOffset=\"50%\" side=\"left\" fill=\"currentColor\" text-anchor=\"middle\">pobj</textPath>\n",
       "    </text>\n",
       "    <path class=\"displacy-arrowhead\" d=\"M1965.0,441.5 L1973.0,429.5 1957.0,429.5\" fill=\"currentColor\"/>\n",
       "</g>\n",
       "\n",
       "<g class=\"displacy-arrow\">\n",
       "    <path class=\"displacy-arc\" id=\"arrow-4a2110a4721d4ff296047531dca39233-0-11\" stroke-width=\"2px\" d=\"M2170,439.5 C2170,264.5 2485.0,264.5 2485.0,439.5\" fill=\"none\" stroke=\"currentColor\"/>\n",
       "    <text dy=\"1.25em\" style=\"font-size: 0.8em; letter-spacing: 1px\">\n",
       "        <textPath xlink:href=\"#arrow-4a2110a4721d4ff296047531dca39233-0-11\" class=\"displacy-label\" startOffset=\"50%\" side=\"left\" fill=\"currentColor\" text-anchor=\"middle\">mark</textPath>\n",
       "    </text>\n",
       "    <path class=\"displacy-arrowhead\" d=\"M2170,441.5 L2162,429.5 2178,429.5\" fill=\"currentColor\"/>\n",
       "</g>\n",
       "\n",
       "<g class=\"displacy-arrow\">\n",
       "    <path class=\"displacy-arc\" id=\"arrow-4a2110a4721d4ff296047531dca39233-0-12\" stroke-width=\"2px\" d=\"M2345,439.5 C2345,352.0 2480.0,352.0 2480.0,439.5\" fill=\"none\" stroke=\"currentColor\"/>\n",
       "    <text dy=\"1.25em\" style=\"font-size: 0.8em; letter-spacing: 1px\">\n",
       "        <textPath xlink:href=\"#arrow-4a2110a4721d4ff296047531dca39233-0-12\" class=\"displacy-label\" startOffset=\"50%\" side=\"left\" fill=\"currentColor\" text-anchor=\"middle\">nsubj</textPath>\n",
       "    </text>\n",
       "    <path class=\"displacy-arrowhead\" d=\"M2345,441.5 L2337,429.5 2353,429.5\" fill=\"currentColor\"/>\n",
       "</g>\n",
       "\n",
       "<g class=\"displacy-arrow\">\n",
       "    <path class=\"displacy-arc\" id=\"arrow-4a2110a4721d4ff296047531dca39233-0-13\" stroke-width=\"2px\" d=\"M770,439.5 C770,2.0 2500.0,2.0 2500.0,439.5\" fill=\"none\" stroke=\"currentColor\"/>\n",
       "    <text dy=\"1.25em\" style=\"font-size: 0.8em; letter-spacing: 1px\">\n",
       "        <textPath xlink:href=\"#arrow-4a2110a4721d4ff296047531dca39233-0-13\" class=\"displacy-label\" startOffset=\"50%\" side=\"left\" fill=\"currentColor\" text-anchor=\"middle\">advcl</textPath>\n",
       "    </text>\n",
       "    <path class=\"displacy-arrowhead\" d=\"M2500.0,441.5 L2508.0,429.5 2492.0,429.5\" fill=\"currentColor\"/>\n",
       "</g>\n",
       "\n",
       "<g class=\"displacy-arrow\">\n",
       "    <path class=\"displacy-arc\" id=\"arrow-4a2110a4721d4ff296047531dca39233-0-14\" stroke-width=\"2px\" d=\"M2695,439.5 C2695,264.5 3010.0,264.5 3010.0,439.5\" fill=\"none\" stroke=\"currentColor\"/>\n",
       "    <text dy=\"1.25em\" style=\"font-size: 0.8em; letter-spacing: 1px\">\n",
       "        <textPath xlink:href=\"#arrow-4a2110a4721d4ff296047531dca39233-0-14\" class=\"displacy-label\" startOffset=\"50%\" side=\"left\" fill=\"currentColor\" text-anchor=\"middle\">det</textPath>\n",
       "    </text>\n",
       "    <path class=\"displacy-arrowhead\" d=\"M2695,441.5 L2687,429.5 2703,429.5\" fill=\"currentColor\"/>\n",
       "</g>\n",
       "\n",
       "<g class=\"displacy-arrow\">\n",
       "    <path class=\"displacy-arc\" id=\"arrow-4a2110a4721d4ff296047531dca39233-0-15\" stroke-width=\"2px\" d=\"M2870,439.5 C2870,352.0 3005.0,352.0 3005.0,439.5\" fill=\"none\" stroke=\"currentColor\"/>\n",
       "    <text dy=\"1.25em\" style=\"font-size: 0.8em; letter-spacing: 1px\">\n",
       "        <textPath xlink:href=\"#arrow-4a2110a4721d4ff296047531dca39233-0-15\" class=\"displacy-label\" startOffset=\"50%\" side=\"left\" fill=\"currentColor\" text-anchor=\"middle\">compound</textPath>\n",
       "    </text>\n",
       "    <path class=\"displacy-arrowhead\" d=\"M2870,441.5 L2862,429.5 2878,429.5\" fill=\"currentColor\"/>\n",
       "</g>\n",
       "\n",
       "<g class=\"displacy-arrow\">\n",
       "    <path class=\"displacy-arc\" id=\"arrow-4a2110a4721d4ff296047531dca39233-0-16\" stroke-width=\"2px\" d=\"M2520,439.5 C2520,177.0 3015.0,177.0 3015.0,439.5\" fill=\"none\" stroke=\"currentColor\"/>\n",
       "    <text dy=\"1.25em\" style=\"font-size: 0.8em; letter-spacing: 1px\">\n",
       "        <textPath xlink:href=\"#arrow-4a2110a4721d4ff296047531dca39233-0-16\" class=\"displacy-label\" startOffset=\"50%\" side=\"left\" fill=\"currentColor\" text-anchor=\"middle\">dobj</textPath>\n",
       "    </text>\n",
       "    <path class=\"displacy-arrowhead\" d=\"M3015.0,441.5 L3023.0,429.5 3007.0,429.5\" fill=\"currentColor\"/>\n",
       "</g>\n",
       "\n",
       "<g class=\"displacy-arrow\">\n",
       "    <path class=\"displacy-arc\" id=\"arrow-4a2110a4721d4ff296047531dca39233-0-17\" stroke-width=\"2px\" d=\"M3045,439.5 C3045,352.0 3180.0,352.0 3180.0,439.5\" fill=\"none\" stroke=\"currentColor\"/>\n",
       "    <text dy=\"1.25em\" style=\"font-size: 0.8em; letter-spacing: 1px\">\n",
       "        <textPath xlink:href=\"#arrow-4a2110a4721d4ff296047531dca39233-0-17\" class=\"displacy-label\" startOffset=\"50%\" side=\"left\" fill=\"currentColor\" text-anchor=\"middle\">prep</textPath>\n",
       "    </text>\n",
       "    <path class=\"displacy-arrowhead\" d=\"M3180.0,441.5 L3188.0,429.5 3172.0,429.5\" fill=\"currentColor\"/>\n",
       "</g>\n",
       "\n",
       "<g class=\"displacy-arrow\">\n",
       "    <path class=\"displacy-arc\" id=\"arrow-4a2110a4721d4ff296047531dca39233-0-18\" stroke-width=\"2px\" d=\"M3395,439.5 C3395,352.0 3530.0,352.0 3530.0,439.5\" fill=\"none\" stroke=\"currentColor\"/>\n",
       "    <text dy=\"1.25em\" style=\"font-size: 0.8em; letter-spacing: 1px\">\n",
       "        <textPath xlink:href=\"#arrow-4a2110a4721d4ff296047531dca39233-0-18\" class=\"displacy-label\" startOffset=\"50%\" side=\"left\" fill=\"currentColor\" text-anchor=\"middle\">compound</textPath>\n",
       "    </text>\n",
       "    <path class=\"displacy-arrowhead\" d=\"M3395,441.5 L3387,429.5 3403,429.5\" fill=\"currentColor\"/>\n",
       "</g>\n",
       "\n",
       "<g class=\"displacy-arrow\">\n",
       "    <path class=\"displacy-arc\" id=\"arrow-4a2110a4721d4ff296047531dca39233-0-19\" stroke-width=\"2px\" d=\"M3220,439.5 C3220,264.5 3535.0,264.5 3535.0,439.5\" fill=\"none\" stroke=\"currentColor\"/>\n",
       "    <text dy=\"1.25em\" style=\"font-size: 0.8em; letter-spacing: 1px\">\n",
       "        <textPath xlink:href=\"#arrow-4a2110a4721d4ff296047531dca39233-0-19\" class=\"displacy-label\" startOffset=\"50%\" side=\"left\" fill=\"currentColor\" text-anchor=\"middle\">pobj</textPath>\n",
       "    </text>\n",
       "    <path class=\"displacy-arrowhead\" d=\"M3535.0,441.5 L3543.0,429.5 3527.0,429.5\" fill=\"currentColor\"/>\n",
       "</g>\n",
       "\n",
       "<g class=\"displacy-arrow\">\n",
       "    <path class=\"displacy-arc\" id=\"arrow-4a2110a4721d4ff296047531dca39233-0-20\" stroke-width=\"2px\" d=\"M2520,439.5 C2520,89.5 3720.0,89.5 3720.0,439.5\" fill=\"none\" stroke=\"currentColor\"/>\n",
       "    <text dy=\"1.25em\" style=\"font-size: 0.8em; letter-spacing: 1px\">\n",
       "        <textPath xlink:href=\"#arrow-4a2110a4721d4ff296047531dca39233-0-20\" class=\"displacy-label\" startOffset=\"50%\" side=\"left\" fill=\"currentColor\" text-anchor=\"middle\">npadvmod</textPath>\n",
       "    </text>\n",
       "    <path class=\"displacy-arrowhead\" d=\"M3720.0,441.5 L3728.0,429.5 3712.0,429.5\" fill=\"currentColor\"/>\n",
       "</g>\n",
       "\n",
       "<g class=\"displacy-arrow\">\n",
       "    <path class=\"displacy-arc\" id=\"arrow-4a2110a4721d4ff296047531dca39233-0-21\" stroke-width=\"2px\" d=\"M3745,439.5 C3745,352.0 3880.0,352.0 3880.0,439.5\" fill=\"none\" stroke=\"currentColor\"/>\n",
       "    <text dy=\"1.25em\" style=\"font-size: 0.8em; letter-spacing: 1px\">\n",
       "        <textPath xlink:href=\"#arrow-4a2110a4721d4ff296047531dca39233-0-21\" class=\"displacy-label\" startOffset=\"50%\" side=\"left\" fill=\"currentColor\" text-anchor=\"middle\">nummod</textPath>\n",
       "    </text>\n",
       "    <path class=\"displacy-arrowhead\" d=\"M3880.0,441.5 L3888.0,429.5 3872.0,429.5\" fill=\"currentColor\"/>\n",
       "</g>\n",
       "\n",
       "<g class=\"displacy-arrow\">\n",
       "    <path class=\"displacy-arc\" id=\"arrow-4a2110a4721d4ff296047531dca39233-0-22\" stroke-width=\"2px\" d=\"M3920,439.5 C3920,352.0 4055.0,352.0 4055.0,439.5\" fill=\"none\" stroke=\"currentColor\"/>\n",
       "    <text dy=\"1.25em\" style=\"font-size: 0.8em; letter-spacing: 1px\">\n",
       "        <textPath xlink:href=\"#arrow-4a2110a4721d4ff296047531dca39233-0-22\" class=\"displacy-label\" startOffset=\"50%\" side=\"left\" fill=\"currentColor\" text-anchor=\"middle\">prep</textPath>\n",
       "    </text>\n",
       "    <path class=\"displacy-arrowhead\" d=\"M4055.0,441.5 L4063.0,429.5 4047.0,429.5\" fill=\"currentColor\"/>\n",
       "</g>\n",
       "</svg></span>"
      ],
      "text/plain": [
       "<IPython.core.display.HTML object>"
      ]
     },
     "metadata": {},
     "output_type": "display_data"
    }
   ],
   "source": [
    "displacy.render(document, style=\"dep\")"
   ]
  },
  {
   "cell_type": "markdown",
   "id": "28e17ae2",
   "metadata": {},
   "source": [
    "#### Visualize the named entities usign the same text. <br> hint: use style=\"ent\""
   ]
  },
  {
   "cell_type": "code",
   "execution_count": 19,
   "id": "612b6ef0",
   "metadata": {},
   "outputs": [
    {
     "data": {
      "text/html": [
       "<span class=\"tex2jax_ignore\"><div class=\"entities\" style=\"line-height: 2.5; direction: ltr\">\n",
       "<mark class=\"entity\" style=\"background: #7aecec; padding: 0.45em 0.6em; margin: 0 0.25em; line-height: 1; border-radius: 0.35em;\">\n",
       "    The Los Angeles Rams\n",
       "    <span style=\"font-size: 0.8em; font-weight: bold; line-height: 1; border-radius: 0.35em; vertical-align: middle; margin-left: 0.5rem\">ORG</span>\n",
       "</mark>\n",
       " ended \n",
       "<mark class=\"entity\" style=\"background: #bfe1d9; padding: 0.45em 0.6em; margin: 0 0.25em; line-height: 1; border-radius: 0.35em;\">\n",
       "    the 2021 season\n",
       "    <span style=\"font-size: 0.8em; font-weight: bold; line-height: 1; border-radius: 0.35em; vertical-align: middle; margin-left: 0.5rem\">DATE</span>\n",
       "</mark>\n",
       " atop the \n",
       "<mark class=\"entity\" style=\"background: #7aecec; padding: 0.45em 0.6em; margin: 0 0.25em; line-height: 1; border-radius: 0.35em;\">\n",
       "    NFL\n",
       "    <span style=\"font-size: 0.8em; font-weight: bold; line-height: 1; border-radius: 0.35em; vertical-align: middle; margin-left: 0.5rem\">ORG</span>\n",
       "</mark>\n",
       " world, as they defeated \n",
       "<mark class=\"entity\" style=\"background: #7aecec; padding: 0.45em 0.6em; margin: 0 0.25em; line-height: 1; border-radius: 0.35em;\">\n",
       "    the Cincinnati Bengals\n",
       "    <span style=\"font-size: 0.8em; font-weight: bold; line-height: 1; border-radius: 0.35em; vertical-align: middle; margin-left: 0.5rem\">ORG</span>\n",
       "</mark>\n",
       " in \n",
       "<mark class=\"entity\" style=\"background: #ffeb80; padding: 0.45em 0.6em; margin: 0 0.25em; line-height: 1; border-radius: 0.35em;\">\n",
       "    Super Bowl\n",
       "    <span style=\"font-size: 0.8em; font-weight: bold; line-height: 1; border-radius: 0.35em; vertical-align: middle; margin-left: 0.5rem\">EVENT</span>\n",
       "</mark>\n",
       " LVI \n",
       "<mark class=\"entity\" style=\"background: #e4e7d2; padding: 0.45em 0.6em; margin: 0 0.25em; line-height: 1; border-radius: 0.35em;\">\n",
       "    23\n",
       "    <span style=\"font-size: 0.8em; font-weight: bold; line-height: 1; border-radius: 0.35em; vertical-align: middle; margin-left: 0.5rem\">CARDINAL</span>\n",
       "</mark>\n",
       "-20.</div></span>"
      ],
      "text/plain": [
       "<IPython.core.display.HTML object>"
      ]
     },
     "metadata": {},
     "output_type": "display_data"
    }
   ],
   "source": [
    "displacy.render(document, style=\"ent\")"
   ]
  },
  {
   "cell_type": "markdown",
   "id": "3983158e",
   "metadata": {},
   "source": [
    "#### Using a for loop, display the text, lemma, and POS for each token of the same document."
   ]
  },
  {
   "cell_type": "code",
   "execution_count": 20,
   "id": "7dd3598c",
   "metadata": {},
   "outputs": [
    {
     "name": "stdout",
     "output_type": "stream",
     "text": [
      "The - the - DET\n",
      "Los - Los - PROPN\n",
      "Angeles - Angeles - PROPN\n",
      "Rams - Rams - PROPN\n",
      "ended - end - VERB\n",
      "the - the - DET\n",
      "2021 - 2021 - NUM\n",
      "season - season - NOUN\n",
      "atop - atop - ADP\n",
      "the - the - DET\n",
      "NFL - NFL - PROPN\n",
      "world - world - NOUN\n",
      ", - , - PUNCT\n",
      "as - as - SCONJ\n",
      "they - they - PRON\n",
      "defeated - defeat - VERB\n",
      "the - the - DET\n",
      "Cincinnati - Cincinnati - PROPN\n",
      "Bengals - Bengals - PROPN\n",
      "in - in - ADP\n",
      "Super - Super - PROPN\n",
      "Bowl - Bowl - PROPN\n",
      "LVI - LVI - PROPN\n",
      "23 - 23 - NUM\n",
      "- - - - SYM\n",
      "20 - 20 - NUM\n",
      ". - . - PUNCT\n"
     ]
    }
   ],
   "source": [
    "for i in document:\n",
    "    print(\"{0} - {1} - {2}\".format(i.text, i.lemma_, i.pos_))"
   ]
  },
  {
   "cell_type": "markdown",
   "id": "af7d9d1d",
   "metadata": {},
   "source": [
    "#### Analyze syntax\n",
    "\n",
    "#### Using chuck.text, get all the nouns in the document"
   ]
  },
  {
   "cell_type": "code",
   "execution_count": 21,
   "id": "ae3fbe30",
   "metadata": {},
   "outputs": [
    {
     "name": "stdout",
     "output_type": "stream",
     "text": [
      "All the nouns: ['The Los Angeles Rams', 'the 2021 season', 'the NFL world', 'they', 'the Cincinnati Bengals', 'Super Bowl']\n"
     ]
    }
   ],
   "source": [
    "print(\"All the nouns:\", [chunk.text for chunk in document.noun_chunks])"
   ]
  },
  {
   "cell_type": "markdown",
   "id": "a51439a2",
   "metadata": {},
   "source": [
    "#### print all the verbs"
   ]
  },
  {
   "cell_type": "code",
   "execution_count": 22,
   "id": "d0c219ea",
   "metadata": {},
   "outputs": [
    {
     "name": "stdout",
     "output_type": "stream",
     "text": [
      "All the verbs: ['end', 'defeat']\n"
     ]
    }
   ],
   "source": [
    "print(\"All the verbs:\", [token.lemma_ for token in document if token.pos_ == \"VERB\"])"
   ]
  },
  {
   "cell_type": "markdown",
   "id": "0efae55c",
   "metadata": {},
   "source": [
    "#### Using a for llop, find named entities, phrases and conceps from the same document"
   ]
  },
  {
   "cell_type": "code",
   "execution_count": 24,
   "id": "b364438a",
   "metadata": {},
   "outputs": [
    {
     "name": "stdout",
     "output_type": "stream",
     "text": [
      "The Los Angeles Rams ORG\n",
      "the 2021 season DATE\n",
      "NFL ORG\n",
      "the Cincinnati Bengals ORG\n",
      "Super Bowl EVENT\n",
      "23 CARDINAL\n"
     ]
    }
   ],
   "source": [
    "for entity in document.ents:\n",
    "    print(entity.text, entity.label_)"
   ]
  },
  {
   "cell_type": "markdown",
   "id": "06df1aea",
   "metadata": {},
   "source": [
    "#### Create a new document with this text, and call it document2\n",
    "\n",
    "One year ago, the Lakers won the 2020 NBA championship. \n",
    "It is really strange acknowledging that in one year, two NBA teams have been crowned Champions"
   ]
  },
  {
   "cell_type": "code",
   "execution_count": 25,
   "id": "ea5a9d5f",
   "metadata": {},
   "outputs": [],
   "source": [
    "document2 = nlp(\"\"\"One year ago, the Lakers won the 2020 NBA championship. It is really strange acknowledging that in one year, two NBA teams have been crowned Champions.\"\"\")"
   ]
  },
  {
   "cell_type": "markdown",
   "id": "30e728b3",
   "metadata": {},
   "source": [
    "#### import Path from pathlib"
   ]
  },
  {
   "cell_type": "code",
   "execution_count": 26,
   "id": "06f29a9a",
   "metadata": {},
   "outputs": [],
   "source": [
    "from pathlib import Path"
   ]
  },
  {
   "cell_type": "markdown",
   "id": "df43a5f2",
   "metadata": {},
   "source": [
    "#### Using a for loop, display the text, lemma, and POS for each token of document2"
   ]
  },
  {
   "cell_type": "code",
   "execution_count": 27,
   "id": "61fa1ad2",
   "metadata": {},
   "outputs": [
    {
     "name": "stdout",
     "output_type": "stream",
     "text": [
      "One - one - NUM\n",
      "year - year - NOUN\n",
      "ago - ago - ADV\n",
      ", - , - PUNCT\n",
      "the - the - DET\n",
      "Lakers - Lakers - PROPN\n",
      "won - win - VERB\n",
      "the - the - DET\n",
      "2020 - 2020 - NUM\n",
      "NBA - NBA - PROPN\n",
      "championship - championship - NOUN\n",
      ". - . - PUNCT\n",
      "It - it - PRON\n",
      "is - be - AUX\n",
      "really - really - ADV\n",
      "strange - strange - ADJ\n",
      "acknowledging - acknowledge - VERB\n",
      "that - that - SCONJ\n",
      "in - in - ADP\n",
      "one - one - NUM\n",
      "year - year - NOUN\n",
      ", - , - PUNCT\n",
      "two - two - NUM\n",
      "NBA - NBA - PROPN\n",
      "teams - team - NOUN\n",
      "have - have - AUX\n",
      "been - be - AUX\n",
      "crowned - crown - VERB\n",
      "Champions - Champions - PROPN\n",
      ". - . - PUNCT\n"
     ]
    }
   ],
   "source": [
    "for i in document2:\n",
    "    print(\"{0} - {1} - {2}\".format(i.text, i.lemma_, i.pos_))"
   ]
  },
  {
   "cell_type": "markdown",
   "id": "1f2a1c83",
   "metadata": {},
   "source": [
    "#### Before you check the similarity of both documents, do you believe that they are similar?"
   ]
  },
  {
   "cell_type": "markdown",
   "id": "ccc9e04b",
   "metadata": {},
   "source": [
    "As they are both talking about sports organizations winning a championship they seem similar to me."
   ]
  },
  {
   "cell_type": "markdown",
   "id": "2439f155",
   "metadata": {},
   "source": [
    "#### Check the similarity between document and document2"
   ]
  },
  {
   "cell_type": "code",
   "execution_count": 28,
   "id": "50e2dc58",
   "metadata": {},
   "outputs": [
    {
     "data": {
      "text/plain": [
       "0.5530624269399639"
      ]
     },
     "execution_count": 28,
     "metadata": {},
     "output_type": "execute_result"
    }
   ],
   "source": [
    "document.similarity(document2)"
   ]
  },
  {
   "cell_type": "markdown",
   "id": "038f8fb2",
   "metadata": {},
   "source": [
    "#### Do you agree wiht the result of the similarity and why?"
   ]
  },
  {
   "cell_type": "markdown",
   "id": "bfaea3d9",
   "metadata": {},
   "source": [
    "The similarity \"feels\" lower to me than I would have expected only being 55% similar."
   ]
  },
  {
   "cell_type": "markdown",
   "id": "155179e7",
   "metadata": {},
   "source": [
    "#### Visualize the named entities of both documents, document and document2"
   ]
  },
  {
   "cell_type": "code",
   "execution_count": 29,
   "id": "e99b0aae",
   "metadata": {},
   "outputs": [
    {
     "data": {
      "text/html": [
       "<span class=\"tex2jax_ignore\"><div class=\"entities\" style=\"line-height: 2.5; direction: ltr\">\n",
       "<mark class=\"entity\" style=\"background: #7aecec; padding: 0.45em 0.6em; margin: 0 0.25em; line-height: 1; border-radius: 0.35em;\">\n",
       "    The Los Angeles Rams\n",
       "    <span style=\"font-size: 0.8em; font-weight: bold; line-height: 1; border-radius: 0.35em; vertical-align: middle; margin-left: 0.5rem\">ORG</span>\n",
       "</mark>\n",
       " ended \n",
       "<mark class=\"entity\" style=\"background: #bfe1d9; padding: 0.45em 0.6em; margin: 0 0.25em; line-height: 1; border-radius: 0.35em;\">\n",
       "    the 2021 season\n",
       "    <span style=\"font-size: 0.8em; font-weight: bold; line-height: 1; border-radius: 0.35em; vertical-align: middle; margin-left: 0.5rem\">DATE</span>\n",
       "</mark>\n",
       " atop the \n",
       "<mark class=\"entity\" style=\"background: #7aecec; padding: 0.45em 0.6em; margin: 0 0.25em; line-height: 1; border-radius: 0.35em;\">\n",
       "    NFL\n",
       "    <span style=\"font-size: 0.8em; font-weight: bold; line-height: 1; border-radius: 0.35em; vertical-align: middle; margin-left: 0.5rem\">ORG</span>\n",
       "</mark>\n",
       " world, as they defeated \n",
       "<mark class=\"entity\" style=\"background: #7aecec; padding: 0.45em 0.6em; margin: 0 0.25em; line-height: 1; border-radius: 0.35em;\">\n",
       "    the Cincinnati Bengals\n",
       "    <span style=\"font-size: 0.8em; font-weight: bold; line-height: 1; border-radius: 0.35em; vertical-align: middle; margin-left: 0.5rem\">ORG</span>\n",
       "</mark>\n",
       " in \n",
       "<mark class=\"entity\" style=\"background: #ffeb80; padding: 0.45em 0.6em; margin: 0 0.25em; line-height: 1; border-radius: 0.35em;\">\n",
       "    Super Bowl\n",
       "    <span style=\"font-size: 0.8em; font-weight: bold; line-height: 1; border-radius: 0.35em; vertical-align: middle; margin-left: 0.5rem\">EVENT</span>\n",
       "</mark>\n",
       " LVI \n",
       "<mark class=\"entity\" style=\"background: #e4e7d2; padding: 0.45em 0.6em; margin: 0 0.25em; line-height: 1; border-radius: 0.35em;\">\n",
       "    23\n",
       "    <span style=\"font-size: 0.8em; font-weight: bold; line-height: 1; border-radius: 0.35em; vertical-align: middle; margin-left: 0.5rem\">CARDINAL</span>\n",
       "</mark>\n",
       "-20.</div></span>"
      ],
      "text/plain": [
       "<IPython.core.display.HTML object>"
      ]
     },
     "metadata": {},
     "output_type": "display_data"
    }
   ],
   "source": [
    "displacy.render(document, style=\"ent\")"
   ]
  },
  {
   "cell_type": "code",
   "execution_count": 30,
   "id": "45fee46d",
   "metadata": {},
   "outputs": [
    {
     "data": {
      "text/html": [
       "<span class=\"tex2jax_ignore\"><div class=\"entities\" style=\"line-height: 2.5; direction: ltr\">\n",
       "<mark class=\"entity\" style=\"background: #bfe1d9; padding: 0.45em 0.6em; margin: 0 0.25em; line-height: 1; border-radius: 0.35em;\">\n",
       "    One year ago\n",
       "    <span style=\"font-size: 0.8em; font-weight: bold; line-height: 1; border-radius: 0.35em; vertical-align: middle; margin-left: 0.5rem\">DATE</span>\n",
       "</mark>\n",
       ", the \n",
       "<mark class=\"entity\" style=\"background: #aa9cfc; padding: 0.45em 0.6em; margin: 0 0.25em; line-height: 1; border-radius: 0.35em;\">\n",
       "    Lakers\n",
       "    <span style=\"font-size: 0.8em; font-weight: bold; line-height: 1; border-radius: 0.35em; vertical-align: middle; margin-left: 0.5rem\">PERSON</span>\n",
       "</mark>\n",
       " won the \n",
       "<mark class=\"entity\" style=\"background: #bfe1d9; padding: 0.45em 0.6em; margin: 0 0.25em; line-height: 1; border-radius: 0.35em;\">\n",
       "    2020\n",
       "    <span style=\"font-size: 0.8em; font-weight: bold; line-height: 1; border-radius: 0.35em; vertical-align: middle; margin-left: 0.5rem\">DATE</span>\n",
       "</mark>\n",
       " \n",
       "<mark class=\"entity\" style=\"background: #7aecec; padding: 0.45em 0.6em; margin: 0 0.25em; line-height: 1; border-radius: 0.35em;\">\n",
       "    NBA\n",
       "    <span style=\"font-size: 0.8em; font-weight: bold; line-height: 1; border-radius: 0.35em; vertical-align: middle; margin-left: 0.5rem\">ORG</span>\n",
       "</mark>\n",
       " championship. It is really strange acknowledging that in \n",
       "<mark class=\"entity\" style=\"background: #bfe1d9; padding: 0.45em 0.6em; margin: 0 0.25em; line-height: 1; border-radius: 0.35em;\">\n",
       "    one year\n",
       "    <span style=\"font-size: 0.8em; font-weight: bold; line-height: 1; border-radius: 0.35em; vertical-align: middle; margin-left: 0.5rem\">DATE</span>\n",
       "</mark>\n",
       ", \n",
       "<mark class=\"entity\" style=\"background: #e4e7d2; padding: 0.45em 0.6em; margin: 0 0.25em; line-height: 1; border-radius: 0.35em;\">\n",
       "    two\n",
       "    <span style=\"font-size: 0.8em; font-weight: bold; line-height: 1; border-radius: 0.35em; vertical-align: middle; margin-left: 0.5rem\">CARDINAL</span>\n",
       "</mark>\n",
       " \n",
       "<mark class=\"entity\" style=\"background: #7aecec; padding: 0.45em 0.6em; margin: 0 0.25em; line-height: 1; border-radius: 0.35em;\">\n",
       "    NBA\n",
       "    <span style=\"font-size: 0.8em; font-weight: bold; line-height: 1; border-radius: 0.35em; vertical-align: middle; margin-left: 0.5rem\">ORG</span>\n",
       "</mark>\n",
       " teams have been crowned \n",
       "<mark class=\"entity\" style=\"background: #7aecec; padding: 0.45em 0.6em; margin: 0 0.25em; line-height: 1; border-radius: 0.35em;\">\n",
       "    Champions\n",
       "    <span style=\"font-size: 0.8em; font-weight: bold; line-height: 1; border-radius: 0.35em; vertical-align: middle; margin-left: 0.5rem\">ORG</span>\n",
       "</mark>\n",
       ".</div></span>"
      ],
      "text/plain": [
       "<IPython.core.display.HTML object>"
      ]
     },
     "metadata": {},
     "output_type": "display_data"
    }
   ],
   "source": [
    "displacy.render(document2, style=\"ent\")"
   ]
  },
  {
   "cell_type": "markdown",
   "id": "2c7a7c71",
   "metadata": {},
   "source": [
    "#### get the 20th token of the document2"
   ]
  },
  {
   "cell_type": "code",
   "execution_count": 31,
   "id": "22b82ff5",
   "metadata": {},
   "outputs": [
    {
     "name": "stdout",
     "output_type": "stream",
     "text": [
      "year\n"
     ]
    }
   ],
   "source": [
    "twentieth_token = document2[20]\n",
    "print(twentieth_token.text)"
   ]
  },
  {
   "cell_type": "markdown",
   "id": "dc8a279e",
   "metadata": {},
   "source": [
    "#### Write a function with one parameter to display basic entity info. Use an if else statement and a for loop. If no entities are found, display \"No named entities found\""
   ]
  },
  {
   "cell_type": "code",
   "execution_count": 33,
   "id": "8aecbccf",
   "metadata": {},
   "outputs": [],
   "source": [
    "def show_ents(doc):\n",
    "    # your code goes here\n",
    "    if doc.ents:\n",
    "        for ent in doc.ents:\n",
    "            print(ent.text+' - '+ent.label_+' - '+str(spacy.explain(ent.label_)))\n",
    "    else:\n",
    "        print('No named entities found.')   \n",
    "    "
   ]
  },
  {
   "cell_type": "markdown",
   "id": "62d11215",
   "metadata": {},
   "source": [
    "#### call the fucntion using document2 as a parameter"
   ]
  },
  {
   "cell_type": "code",
   "execution_count": 34,
   "id": "629b7a96",
   "metadata": {},
   "outputs": [
    {
     "name": "stdout",
     "output_type": "stream",
     "text": [
      "One year ago - DATE - Absolute or relative dates or periods\n",
      "Lakers - PERSON - People, including fictional\n",
      "2020 - DATE - Absolute or relative dates or periods\n",
      "NBA - ORG - Companies, agencies, institutions, etc.\n",
      "one year - DATE - Absolute or relative dates or periods\n",
      "two - CARDINAL - Numerals that do not fall under another type\n",
      "NBA - ORG - Companies, agencies, institutions, etc.\n",
      "Champions - ORG - Companies, agencies, institutions, etc.\n"
     ]
    }
   ],
   "source": [
    "show_ents(document2)"
   ]
  },
  {
   "cell_type": "markdown",
   "id": "7fbc1cf0",
   "metadata": {},
   "source": [
    "#### Using a for loop and \"ent.text\" extract the text, start, end, start_char, end_char, and ent_label from document2 "
   ]
  },
  {
   "cell_type": "code",
   "execution_count": 35,
   "id": "c92c864a",
   "metadata": {},
   "outputs": [
    {
     "name": "stdout",
     "output_type": "stream",
     "text": [
      "One year ago 0 3 0 12 DATE\n",
      "Lakers 5 6 18 24 PERSON\n",
      "2020 8 9 33 37 DATE\n",
      "NBA 9 10 38 41 ORG\n",
      "one year 19 21 99 107 DATE\n",
      "two 22 23 109 112 CARDINAL\n",
      "NBA 23 24 113 116 ORG\n",
      "Champions 28 29 141 150 ORG\n"
     ]
    }
   ],
   "source": [
    "for ent in document2.ents:\n",
    "    print(ent.text, ent.start, ent.end, ent.start_char, ent.end_char, ent.label_)"
   ]
  },
  {
   "cell_type": "markdown",
   "id": "fb371918",
   "metadata": {},
   "source": [
    "#### Counting Entities"
   ]
  },
  {
   "cell_type": "markdown",
   "id": "ca24ecdb",
   "metadata": {},
   "source": [
    "#### pass a conditional statement into a list comprehension <br> hint: use show_ents(document2)"
   ]
  },
  {
   "cell_type": "code",
   "execution_count": 37,
   "id": "ce97ee9d",
   "metadata": {
    "scrolled": true
   },
   "outputs": [
    {
     "name": "stdout",
     "output_type": "stream",
     "text": [
      "One year ago - DATE - Absolute or relative dates or periods\n",
      "Lakers - PERSON - People, including fictional\n",
      "2020 - DATE - Absolute or relative dates or periods\n",
      "NBA - ORG - Companies, agencies, institutions, etc.\n",
      "one year - DATE - Absolute or relative dates or periods\n",
      "two - CARDINAL - Numerals that do not fall under another type\n",
      "NBA - ORG - Companies, agencies, institutions, etc.\n",
      "Champions - ORG - Companies, agencies, institutions, etc.\n"
     ]
    }
   ],
   "source": [
    "show_ents(document2)"
   ]
  },
  {
   "cell_type": "markdown",
   "id": "93989b41",
   "metadata": {},
   "source": [
    "#### Use the len function to count to number of organizaitons (ORG) in document2"
   ]
  },
  {
   "cell_type": "code",
   "execution_count": 38,
   "id": "2ece3307",
   "metadata": {},
   "outputs": [
    {
     "data": {
      "text/plain": [
       "3"
      ]
     },
     "execution_count": 38,
     "metadata": {},
     "output_type": "execute_result"
    }
   ],
   "source": [
    "len([ent for ent in document2.ents if ent.label_=='ORG'])"
   ]
  },
  {
   "cell_type": "markdown",
   "id": "132ab1f7",
   "metadata": {},
   "source": [
    "## Customizing Colors and Effects\n",
    "You can also pass background color and gradient options:"
   ]
  },
  {
   "cell_type": "markdown",
   "id": "fcca51aa",
   "metadata": {},
   "source": [
    "### Using a custom color, display the entities 'ORG' and 'DATE' from document2"
   ]
  },
  {
   "cell_type": "code",
   "execution_count": 45,
   "id": "405966fd",
   "metadata": {},
   "outputs": [
    {
     "data": {
      "text/html": [
       "<span class=\"tex2jax_ignore\"><div class=\"entities\" style=\"line-height: 2.5; direction: ltr\">\n",
       "<mark class=\"entity\" style=\"background: radial-gradient(red, yellow); padding: 0.45em 0.6em; margin: 0 0.25em; line-height: 1; border-radius: 0.35em;\">\n",
       "    One year ago\n",
       "    <span style=\"font-size: 0.8em; font-weight: bold; line-height: 1; border-radius: 0.35em; vertical-align: middle; margin-left: 0.5rem\">DATE</span>\n",
       "</mark>\n",
       ", the Lakers won the \n",
       "<mark class=\"entity\" style=\"background: radial-gradient(red, yellow); padding: 0.45em 0.6em; margin: 0 0.25em; line-height: 1; border-radius: 0.35em;\">\n",
       "    2020\n",
       "    <span style=\"font-size: 0.8em; font-weight: bold; line-height: 1; border-radius: 0.35em; vertical-align: middle; margin-left: 0.5rem\">DATE</span>\n",
       "</mark>\n",
       " \n",
       "<mark class=\"entity\" style=\"background: linear-gradient(90deg, #2980B9, #6DD5FA); padding: 0.45em 0.6em; margin: 0 0.25em; line-height: 1; border-radius: 0.35em;\">\n",
       "    NBA\n",
       "    <span style=\"font-size: 0.8em; font-weight: bold; line-height: 1; border-radius: 0.35em; vertical-align: middle; margin-left: 0.5rem\">ORG</span>\n",
       "</mark>\n",
       " championship. It is really strange acknowledging that in \n",
       "<mark class=\"entity\" style=\"background: radial-gradient(red, yellow); padding: 0.45em 0.6em; margin: 0 0.25em; line-height: 1; border-radius: 0.35em;\">\n",
       "    one year\n",
       "    <span style=\"font-size: 0.8em; font-weight: bold; line-height: 1; border-radius: 0.35em; vertical-align: middle; margin-left: 0.5rem\">DATE</span>\n",
       "</mark>\n",
       ", two \n",
       "<mark class=\"entity\" style=\"background: linear-gradient(90deg, #2980B9, #6DD5FA); padding: 0.45em 0.6em; margin: 0 0.25em; line-height: 1; border-radius: 0.35em;\">\n",
       "    NBA\n",
       "    <span style=\"font-size: 0.8em; font-weight: bold; line-height: 1; border-radius: 0.35em; vertical-align: middle; margin-left: 0.5rem\">ORG</span>\n",
       "</mark>\n",
       " teams have been crowned \n",
       "<mark class=\"entity\" style=\"background: linear-gradient(90deg, #2980B9, #6DD5FA); padding: 0.45em 0.6em; margin: 0 0.25em; line-height: 1; border-radius: 0.35em;\">\n",
       "    Champions\n",
       "    <span style=\"font-size: 0.8em; font-weight: bold; line-height: 1; border-radius: 0.35em; vertical-align: middle; margin-left: 0.5rem\">ORG</span>\n",
       "</mark>\n",
       ".</div></span>"
      ],
      "text/plain": [
       "<IPython.core.display.HTML object>"
      ]
     },
     "metadata": {},
     "output_type": "display_data"
    }
   ],
   "source": [
    "colors = {'ORG': 'linear-gradient(90deg, #2980B9, #6DD5FA)', 'DATE': 'radial-gradient(red, yellow)'}\n",
    "\n",
    "options = {'ents': ['ORG', 'DATE'], 'colors':colors}\n",
    "\n",
    "displacy.render(document2, style='ent', jupyter=True, options=options)"
   ]
  },
  {
   "cell_type": "code",
   "execution_count": null,
   "id": "45acadf9",
   "metadata": {},
   "outputs": [],
   "source": []
  }
 ],
 "metadata": {
  "kernelspec": {
   "display_name": "Python 3 (ipykernel)",
   "language": "python",
   "name": "python3"
  },
  "language_info": {
   "codemirror_mode": {
    "name": "ipython",
    "version": 3
   },
   "file_extension": ".py",
   "mimetype": "text/x-python",
   "name": "python",
   "nbconvert_exporter": "python",
   "pygments_lexer": "ipython3",
   "version": "3.11.5"
  }
 },
 "nbformat": 4,
 "nbformat_minor": 5
}
