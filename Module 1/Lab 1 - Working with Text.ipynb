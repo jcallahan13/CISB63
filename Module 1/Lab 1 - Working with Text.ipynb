{
 "cells": [
  {
   "cell_type": "markdown",
   "id": "93fbe058",
   "metadata": {},
   "source": [
    "# Lab Assessment - Working with text\n",
    "\n",
    "Welcome to our first lab!!\n",
    "\n",
    "Complete the tasks described in bold below by typing the code in the cells.<br>"
   ]
  },
  {
   "cell_type": "markdown",
   "id": "988c9802",
   "metadata": {},
   "source": [
    "### Working with f-Strings\n",
    "\n",
    "#### 1. Print an f-string that displays `We are learning about Natural Language Processing in Business at MT SAC` using the variables provided."
   ]
  },
  {
   "cell_type": "code",
   "execution_count": 2,
   "id": "c113016a",
   "metadata": {},
   "outputs": [
    {
     "name": "stdout",
     "output_type": "stream",
     "text": [
      "This was completed by John Callahan\n",
      "We are learning about Natural Language Processing in Business at MT SAC\n"
     ]
    }
   ],
   "source": [
    "print(\"This was completed by John Callahan\")\n",
    "school = 'MT SAC'\n",
    "full_text = 'Natural Language Processing in Business'\n",
    "\n",
    "# Enter your code here:\n",
    "sentence=f'We are learning about {full_text} at {school}'\n",
    "print (sentence)"
   ]
  },
  {
   "cell_type": "markdown",
   "id": "686e291b",
   "metadata": {},
   "source": [
    "#### Create a variable called name and assing your name to it. Then, print and f-string that displays \"My name is (\"your name)\"\n",
    "\n",
    "Example: My name is Angel."
   ]
  },
  {
   "cell_type": "code",
   "execution_count": 4,
   "id": "d6a7e611",
   "metadata": {},
   "outputs": [
    {
     "name": "stdout",
     "output_type": "stream",
     "text": [
      "This was completed by John Callahan\n",
      "My name is John.\n"
     ]
    }
   ],
   "source": [
    "print(\"This was completed by John Callahan\")\n",
    "name='John'\n",
    "sentence=f'My name is {name}.'\n",
    "print (sentence)"
   ]
  },
  {
   "cell_type": "markdown",
   "id": "8a606f72",
   "metadata": {},
   "source": [
    "#### Now print your name around single quotes to get the string representation. \n",
    "Example: My name is 'Angel'"
   ]
  },
  {
   "cell_type": "code",
   "execution_count": 6,
   "id": "e08c7efb",
   "metadata": {},
   "outputs": [
    {
     "name": "stdout",
     "output_type": "stream",
     "text": [
      "This was completed by John Callahan\n",
      "My name is 'John'.\n"
     ]
    }
   ],
   "source": [
    "print(\"This was completed by John Callahan\")\n",
    "name='John'\n",
    "sentence=f\"My name is '{name}'.\"\n",
    "print (sentence)"
   ]
  },
  {
   "cell_type": "markdown",
   "id": "afb8abac",
   "metadata": {},
   "source": [
    "#### Note: A date in Python is not a data type of its own, but we can import a module named datetime to work with dates as date objects.\n",
    "\n",
    "\n",
    "#### Using the datetime module, print today's date as follows:\n",
    "\n",
    "February 24, 2022"
   ]
  },
  {
   "cell_type": "code",
   "execution_count": 8,
   "id": "fd37906d",
   "metadata": {},
   "outputs": [
    {
     "name": "stdout",
     "output_type": "stream",
     "text": [
      "This was completed by John Callahan\n",
      "February 24, 2022\n"
     ]
    }
   ],
   "source": [
    "print(\"This was completed by John Callahan\")\n",
    "from datetime import datetime\n",
    "today=datetime(year=2022, month=2, day=24)\n",
    "\n",
    "print(f'{today:%B %d, %Y}')"
   ]
  },
  {
   "cell_type": "markdown",
   "id": "5b3d40bd",
   "metadata": {},
   "source": [
    "## Working with Files"
   ]
  },
  {
   "cell_type": "markdown",
   "id": "5805491d",
   "metadata": {},
   "source": [
    "#### Create a file in the current working directory called contacts.txt and enter the following text in the first row:  \n",
    "\n",
    "#### First_Name Last_Name, Title, Extension, Email\n",
    "\n",
    "hint: use %%writefile"
   ]
  },
  {
   "cell_type": "code",
   "execution_count": 12,
   "id": "94f1cf37",
   "metadata": {
    "scrolled": true
   },
   "outputs": [
    {
     "name": "stdout",
     "output_type": "stream",
     "text": [
      "Writing contacts.txt\n"
     ]
    }
   ],
   "source": [
    "%%writefile contacts.txt\n",
    "First_Name, Last_Name, Title, Extension, Email\n"
   ]
  },
  {
   "cell_type": "markdown",
   "id": "52b1f3da",
   "metadata": {},
   "source": [
    "### Open the file and use .read() to save the contents of the file to a string called fields. Make sure the file is closed at the end."
   ]
  },
  {
   "cell_type": "code",
   "execution_count": 21,
   "id": "80c03d48",
   "metadata": {},
   "outputs": [
    {
     "data": {
      "text/plain": [
       "'First_Name, Last_Name, Title, Extension, Email\\n'"
      ]
     },
     "execution_count": 21,
     "metadata": {},
     "output_type": "execute_result"
    }
   ],
   "source": [
    "# Write your code here:\n",
    "# hint: use with open\n",
    "\n",
    "my_file=open('contacts.txt')\n",
    "my_file\n",
    "    \n",
    "# Run fields to see the contents of contacts.txt:\n",
    "my_file.read()\n",
    "\n"
   ]
  },
  {
   "cell_type": "code",
   "execution_count": 13,
   "id": "95a3b8de",
   "metadata": {},
   "outputs": [],
   "source": [
    "my_file.close()"
   ]
  },
  {
   "cell_type": "markdown",
   "id": "c1dfc906",
   "metadata": {},
   "source": [
    "## Working with PDF Files"
   ]
  },
  {
   "cell_type": "code",
   "execution_count": 23,
   "id": "96526103",
   "metadata": {},
   "outputs": [
    {
     "name": "stdout",
     "output_type": "stream",
     "text": [
      "Defaulting to user installation because normal site-packages is not writeable\n",
      "Collecting pyPDF2\n",
      "  Obtaining dependency information for pyPDF2 from https://files.pythonhosted.org/packages/8e/5e/c86a5643653825d3c913719e788e41386bee415c2b87b4f955432f2de6b2/pypdf2-3.0.1-py3-none-any.whl.metadata\n",
      "  Downloading pypdf2-3.0.1-py3-none-any.whl.metadata (6.8 kB)\n",
      "Downloading pypdf2-3.0.1-py3-none-any.whl (232 kB)\n",
      "   ---------------------------------------- 0.0/232.6 kB ? eta -:--:--\n",
      "   - -------------------------------------- 10.2/232.6 kB ? eta -:--:--\n",
      "   ----- --------------------------------- 30.7/232.6 kB 435.7 kB/s eta 0:00:01\n",
      "   --------------- ------------------------ 92.2/232.6 kB 1.1 MB/s eta 0:00:01\n",
      "   ---------------------------------------- 232.6/232.6 kB 2.0 MB/s eta 0:00:00\n",
      "Installing collected packages: pyPDF2\n",
      "Successfully installed pyPDF2-3.0.1\n"
     ]
    }
   ],
   "source": [
    "# Install the Library pyPDF2 - if needed\n",
    "!pip install pyPDF2"
   ]
  },
  {
   "cell_type": "markdown",
   "id": "c415e4e0",
   "metadata": {},
   "source": [
    "#### 4. Use PyPDF2 to open the file `Business_Proposal.pdf`. Extract the text of page 2."
   ]
  },
  {
   "cell_type": "code",
   "execution_count": 8,
   "id": "2347769d",
   "metadata": {},
   "outputs": [
    {
     "name": "stdout",
     "output_type": "stream",
     "text": [
      "AUTHORS:  \n",
      "Amy Baker, Finance Chair, x345, abaker@ourcompany.com  \n",
      "Chris Donaldson, Accounting Dir., x621, cdonaldson@ourcompany.com  \n",
      "Erin Freeman, Sr. VP, x879, efreeman@ourcompany.com  \n"
     ]
    }
   ],
   "source": [
    "# Perform import\n",
    "import PyPDF2\n",
    "\n",
    "# Open the file as a binary object\n",
    "f=open('Business_Proposal.pdf','rb')\n",
    "\n",
    "# Use PyPDF2 to read the text of the file\n",
    "pdf_reader=PyPDF2.PdfReader(f)\n",
    "\n",
    "\n",
    "# Get the text from page 2 (CHALLENGE: Do this in one step!)\n",
    "# page_two_text = pdf_reader.getPage(1).extractText()\n",
    "page_two_text=pdf_reader.pages[1].extract_text()\n",
    "\n",
    "\n",
    "# Close the file\n",
    "f.close()\n",
    "\n",
    "# Print the contents of page_two_text\n",
    "#print(page_two_text)\n",
    "print(page_two_text)"
   ]
  },
  {
   "cell_type": "markdown",
   "id": "885c0204",
   "metadata": {},
   "source": [
    "#### Open the file `contacts.txt` in append mode. Add the text of page 2 from above to `contacts.txt`."
   ]
  },
  {
   "cell_type": "code",
   "execution_count": 14,
   "id": "76c2ad64",
   "metadata": {},
   "outputs": [
    {
     "name": "stdout",
     "output_type": "stream",
     "text": [
      "First_Name, Last_Name, Title, Extension, Email\n",
      "\n",
      "AUTHORS:\n",
      "\n",
      "Amy Baker, Finance Chair, x345, abaker@ourcompany.com\n",
      "\n",
      "Chris Donaldson, Accounting Dir., x621, cdonaldson@ourcompany.com\n",
      "\n",
      "Erin Freeman, Sr. VP, x879, efreeman@ourcompany.com\n"
     ]
    }
   ],
   "source": [
    "# Hint: use with open\n",
    "#Enter your code here:\n",
    "my_file=open('contacts.txt','a+')\n",
    "my_file.write('\\nAUTHORS:\\n')\n",
    "my_file.write('\\nAmy Baker, Finance Chair, x345, abaker@ourcompany.com\\n')\n",
    "my_file.write('\\nChris Donaldson, Accounting Dir., x621, cdonaldson@ourcompany.com\\n')\n",
    "my_file.write('\\nErin Freeman, Sr. VP, x879, efreeman@ourcompany.com')\n",
    "my_file.seek(0)\n",
    "print(my_file.read())"
   ]
  },
  {
   "cell_type": "code",
   "execution_count": 15,
   "id": "47e6cf3c",
   "metadata": {},
   "outputs": [],
   "source": [
    "my_file.close()"
   ]
  },
  {
   "cell_type": "markdown",
   "id": "41e43045",
   "metadata": {},
   "source": [
    "### Pluralization and Singularization using textblob\n",
    "\n",
    "#### Import Word from textblob"
   ]
  },
  {
   "cell_type": "code",
   "execution_count": 16,
   "id": "29b4e7f4",
   "metadata": {},
   "outputs": [
    {
     "name": "stdout",
     "output_type": "stream",
     "text": [
      "Defaulting to user installation because normal site-packages is not writeable\n",
      "Collecting textblob\n",
      "  Obtaining dependency information for textblob from https://files.pythonhosted.org/packages/02/07/5fd2945356dd839974d3a25de8a142dc37293c21315729a41e775b5f3569/textblob-0.18.0.post0-py3-none-any.whl.metadata\n",
      "  Downloading textblob-0.18.0.post0-py3-none-any.whl.metadata (4.5 kB)\n",
      "Requirement already satisfied: nltk>=3.8 in c:\\programdata\\anaconda3\\lib\\site-packages (from textblob) (3.8.1)\n",
      "Requirement already satisfied: click in c:\\programdata\\anaconda3\\lib\\site-packages (from nltk>=3.8->textblob) (8.0.4)\n",
      "Requirement already satisfied: joblib in c:\\programdata\\anaconda3\\lib\\site-packages (from nltk>=3.8->textblob) (1.2.0)\n",
      "Requirement already satisfied: regex>=2021.8.3 in c:\\programdata\\anaconda3\\lib\\site-packages (from nltk>=3.8->textblob) (2022.7.9)\n",
      "Requirement already satisfied: tqdm in c:\\programdata\\anaconda3\\lib\\site-packages (from nltk>=3.8->textblob) (4.65.0)\n",
      "Requirement already satisfied: colorama in c:\\programdata\\anaconda3\\lib\\site-packages (from click->nltk>=3.8->textblob) (0.4.6)\n",
      "Downloading textblob-0.18.0.post0-py3-none-any.whl (626 kB)\n",
      "   ---------------------------------------- 0.0/626.3 kB ? eta -:--:--\n",
      "    --------------------------------------- 10.2/626.3 kB ? eta -:--:--\n",
      "   -- ------------------------------------ 41.0/626.3 kB 667.8 kB/s eta 0:00:01\n",
      "   ---- ---------------------------------- 71.7/626.3 kB 991.0 kB/s eta 0:00:01\n",
      "   ----------- ---------------------------- 184.3/626.3 kB 1.6 MB/s eta 0:00:01\n",
      "   ------------- -------------------------- 204.8/626.3 kB 1.6 MB/s eta 0:00:01\n",
      "   --------------------- ------------------ 337.9/626.3 kB 1.8 MB/s eta 0:00:01\n",
      "   --------------------- ------------------ 337.9/626.3 kB 1.8 MB/s eta 0:00:01\n",
      "   ------------------------------ --------- 471.0/626.3 kB 1.7 MB/s eta 0:00:01\n",
      "   ---------------------------------------  624.6/626.3 kB 2.1 MB/s eta 0:00:01\n",
      "   ---------------------------------------- 626.3/626.3 kB 2.0 MB/s eta 0:00:00\n",
      "Installing collected packages: textblob\n",
      "Successfully installed textblob-0.18.0.post0\n"
     ]
    }
   ],
   "source": [
    "#install textblob\n",
    "!pip install textblob\n",
    "\n",
    "#import the Word class from textblob library\n",
    "from textblob import Word"
   ]
  },
  {
   "cell_type": "markdown",
   "id": "57578d1f",
   "metadata": {},
   "source": [
    "#### create a variable for the word \"mouse\" and call it mouse"
   ]
  },
  {
   "cell_type": "code",
   "execution_count": 17,
   "id": "a9a4d2a7",
   "metadata": {},
   "outputs": [],
   "source": [
    "mouse=Word('mouse')"
   ]
  },
  {
   "cell_type": "markdown",
   "id": "c56c09fd",
   "metadata": {},
   "source": [
    "#### Pluralize the word \"mouse\""
   ]
  },
  {
   "cell_type": "code",
   "execution_count": 19,
   "id": "66d4060e",
   "metadata": {},
   "outputs": [
    {
     "data": {
      "text/plain": [
       "'mice'"
      ]
     },
     "execution_count": 19,
     "metadata": {},
     "output_type": "execute_result"
    }
   ],
   "source": [
    "mouse.pluralize()"
   ]
  },
  {
   "cell_type": "markdown",
   "id": "4d5f4128",
   "metadata": {},
   "source": [
    "#### create a variable for the word \"tooth\" and call it tooth"
   ]
  },
  {
   "cell_type": "code",
   "execution_count": 20,
   "id": "fc806c3f",
   "metadata": {},
   "outputs": [],
   "source": [
    "tooth=Word('tooth')"
   ]
  },
  {
   "cell_type": "markdown",
   "id": "8ae6a90b",
   "metadata": {},
   "source": [
    "#### Pluralize the word \"tooth\""
   ]
  },
  {
   "cell_type": "code",
   "execution_count": 21,
   "id": "625218be",
   "metadata": {},
   "outputs": [
    {
     "data": {
      "text/plain": [
       "'teeth'"
      ]
     },
     "execution_count": 21,
     "metadata": {},
     "output_type": "execute_result"
    }
   ],
   "source": [
    "tooth.pluralize()"
   ]
  },
  {
   "cell_type": "markdown",
   "id": "8e369ce9",
   "metadata": {},
   "source": [
    "#### create a variable for the word \"mice\" and call it mice"
   ]
  },
  {
   "cell_type": "code",
   "execution_count": 23,
   "id": "40f03168",
   "metadata": {},
   "outputs": [],
   "source": [
    "mice=Word('mice')"
   ]
  },
  {
   "cell_type": "markdown",
   "id": "9be8b664",
   "metadata": {},
   "source": [
    "#### Singularize the word \"mice\""
   ]
  },
  {
   "cell_type": "code",
   "execution_count": 24,
   "id": "7b03f5be",
   "metadata": {},
   "outputs": [
    {
     "data": {
      "text/plain": [
       "'mouse'"
      ]
     },
     "execution_count": 24,
     "metadata": {},
     "output_type": "execute_result"
    }
   ],
   "source": [
    "mice.singularize()"
   ]
  },
  {
   "cell_type": "markdown",
   "id": "2caf09f8",
   "metadata": {},
   "source": [
    "#### Import TextBlob"
   ]
  },
  {
   "cell_type": "code",
   "execution_count": 25,
   "id": "323337a2",
   "metadata": {},
   "outputs": [],
   "source": [
    "from textblob import TextBlob"
   ]
  },
  {
   "cell_type": "markdown",
   "id": "6a6e3d6e",
   "metadata": {},
   "source": [
    "#### Using textblob - pluralize the words 'lion tiger fish mouse'"
   ]
  },
  {
   "cell_type": "code",
   "execution_count": 26,
   "id": "168a2c96",
   "metadata": {},
   "outputs": [
    {
     "data": {
      "text/plain": [
       "WordList(['lions', 'tigers', 'fish', 'mice'])"
      ]
     },
     "execution_count": 26,
     "metadata": {},
     "output_type": "execute_result"
    }
   ],
   "source": [
    "#Create WordList\n",
    "animals=TextBlob('lion tiger fish mouse').words\n",
    "#Pluralize the words\n",
    "animals.pluralize()"
   ]
  },
  {
   "cell_type": "markdown",
   "id": "87bb23b0",
   "metadata": {},
   "source": [
    "### Spell Checking and Correction"
   ]
  },
  {
   "cell_type": "markdown",
   "id": "3ef672f6",
   "metadata": {},
   "source": [
    "#### import Word from textblob"
   ]
  },
  {
   "cell_type": "code",
   "execution_count": 27,
   "id": "784429d0",
   "metadata": {},
   "outputs": [],
   "source": [
    "from textblob import Word"
   ]
  },
  {
   "cell_type": "markdown",
   "id": "31de146d",
   "metadata": {},
   "source": [
    "#### create a variable called \"word\" and assing the word \"confidense\" usign the Word method "
   ]
  },
  {
   "cell_type": "code",
   "execution_count": 28,
   "id": "07ca1186",
   "metadata": {},
   "outputs": [],
   "source": [
    "# hint: word = Word('confidense')\n",
    "word=Word('confidense')"
   ]
  },
  {
   "cell_type": "markdown",
   "id": "c0d5b44f",
   "metadata": {},
   "source": [
    "#### Check the spelling or the workd \"confidense\""
   ]
  },
  {
   "cell_type": "code",
   "execution_count": 29,
   "id": "f5175fa6",
   "metadata": {},
   "outputs": [
    {
     "data": {
      "text/plain": [
       "[('confidence', 1.0)]"
      ]
     },
     "execution_count": 29,
     "metadata": {},
     "output_type": "execute_result"
    }
   ],
   "source": [
    "word.spellcheck()"
   ]
  },
  {
   "cell_type": "markdown",
   "id": "07486a08",
   "metadata": {},
   "source": [
    "#### Correct the spelling"
   ]
  },
  {
   "cell_type": "code",
   "execution_count": 30,
   "id": "83fd6df9",
   "metadata": {},
   "outputs": [
    {
     "data": {
      "text/plain": [
       "'confidence'"
      ]
     },
     "execution_count": 30,
     "metadata": {},
     "output_type": "execute_result"
    }
   ],
   "source": [
    "# Correct the spelling\n",
    "word.correct()"
   ]
  },
  {
   "cell_type": "markdown",
   "id": "2bfb1619",
   "metadata": {},
   "source": [
    "#### Correct the spelling in this sentence `'I donot know hwo to spel sentense'`.\n",
    "\n",
    "#### Assing the text: 'I donot know how to spel sentense' to a variable called \"sentence\""
   ]
  },
  {
   "cell_type": "code",
   "execution_count": 31,
   "id": "befca3c2",
   "metadata": {},
   "outputs": [],
   "source": [
    "sentence=TextBlob('I donot know how to spel sentense')"
   ]
  },
  {
   "cell_type": "markdown",
   "id": "82e9cdd1",
   "metadata": {},
   "source": [
    "#### Correct the spelling in the sentence"
   ]
  },
  {
   "cell_type": "code",
   "execution_count": 32,
   "id": "4ecbcbfe",
   "metadata": {},
   "outputs": [
    {
     "data": {
      "text/plain": [
       "TextBlob(\"I dont know how to spell sentence\")"
      ]
     },
     "execution_count": 32,
     "metadata": {},
     "output_type": "execute_result"
    }
   ],
   "source": [
    "sentence.correct()"
   ]
  },
  {
   "cell_type": "markdown",
   "id": "d4ee86c0",
   "metadata": {},
   "source": [
    "#### Get the Sentiment (Polarity and Subjectivity) of the phrase: \"I love homework\""
   ]
  },
  {
   "cell_type": "code",
   "execution_count": 33,
   "id": "8fbaf9ea",
   "metadata": {},
   "outputs": [
    {
     "data": {
      "text/plain": [
       "Sentiment(polarity=0.5, subjectivity=0.6)"
      ]
     },
     "execution_count": 33,
     "metadata": {},
     "output_type": "execute_result"
    }
   ],
   "source": [
    "from textblob import TextBlob\n",
    "TextBlob(\"I love homework\").sentiment"
   ]
  },
  {
   "cell_type": "markdown",
   "id": "6f687ec2",
   "metadata": {},
   "source": [
    "Do you agree with the result?"
   ]
  },
  {
   "cell_type": "code",
   "execution_count": null,
   "id": "8c621a55",
   "metadata": {},
   "outputs": [],
   "source": [
    "# As the polarity is between neutral and positive and subjectivity score indicates it is fairly subjective I do agree with the result."
   ]
  },
  {
   "cell_type": "markdown",
   "id": "6e36eb56",
   "metadata": {},
   "source": [
    "### Get the polarity scores"
   ]
  },
  {
   "cell_type": "code",
   "execution_count": 34,
   "id": "dbe428fc",
   "metadata": {},
   "outputs": [
    {
     "name": "stdout",
     "output_type": "stream",
     "text": [
      "Defaulting to user installation because normal site-packages is not writeable\n",
      "Collecting vaderSentiment\n",
      "  Obtaining dependency information for vaderSentiment from https://files.pythonhosted.org/packages/76/fc/310e16254683c1ed35eeb97386986d6c00bc29df17ce280aed64d55537e9/vaderSentiment-3.3.2-py2.py3-none-any.whl.metadata\n",
      "  Downloading vaderSentiment-3.3.2-py2.py3-none-any.whl.metadata (572 bytes)\n",
      "Requirement already satisfied: requests in c:\\programdata\\anaconda3\\lib\\site-packages (from vaderSentiment) (2.31.0)\n",
      "Requirement already satisfied: charset-normalizer<4,>=2 in c:\\programdata\\anaconda3\\lib\\site-packages (from requests->vaderSentiment) (2.0.4)\n",
      "Requirement already satisfied: idna<4,>=2.5 in c:\\programdata\\anaconda3\\lib\\site-packages (from requests->vaderSentiment) (3.4)\n",
      "Requirement already satisfied: urllib3<3,>=1.21.1 in c:\\programdata\\anaconda3\\lib\\site-packages (from requests->vaderSentiment) (1.26.16)\n",
      "Requirement already satisfied: certifi>=2017.4.17 in c:\\programdata\\anaconda3\\lib\\site-packages (from requests->vaderSentiment) (2024.7.4)\n",
      "Downloading vaderSentiment-3.3.2-py2.py3-none-any.whl (125 kB)\n",
      "   ---------------------------------------- 0.0/126.0 kB ? eta -:--:--\n",
      "   ---------------------------------------- 0.0/126.0 kB ? eta -:--:--\n",
      "   ------ --------------------------------- 20.5/126.0 kB ? eta -:--:--\n",
      "   --------- ------------------------------ 30.7/126.0 kB 1.3 MB/s eta 0:00:01\n",
      "   ------------------------- ------------- 81.9/126.0 kB 657.6 kB/s eta 0:00:01\n",
      "   ---------------------------- ---------- 92.2/126.0 kB 751.6 kB/s eta 0:00:01\n",
      "   ---------------------------- ---------- 92.2/126.0 kB 751.6 kB/s eta 0:00:01\n",
      "   -------------------------------------- 126.0/126.0 kB 528.4 kB/s eta 0:00:00\n",
      "Installing collected packages: vaderSentiment\n",
      "Successfully installed vaderSentiment-3.3.2\n"
     ]
    }
   ],
   "source": [
    "# install vaderSentiment\n",
    "!pip install vaderSentiment"
   ]
  },
  {
   "cell_type": "code",
   "execution_count": 35,
   "id": "0630a213",
   "metadata": {},
   "outputs": [
    {
     "data": {
      "text/plain": [
       "{'neg': 0.0, 'neu': 0.494, 'pos': 0.506, 'compound': 0.6239}"
      ]
     },
     "execution_count": 35,
     "metadata": {},
     "output_type": "execute_result"
    }
   ],
   "source": [
    "from vaderSentiment.vaderSentiment import SentimentIntensityAnalyzer\n",
    "analyser = SentimentIntensityAnalyzer()\n",
    "analyser.polarity_scores(\"OMG! This class is amazing\")"
   ]
  },
  {
   "cell_type": "markdown",
   "id": "3cbb708e",
   "metadata": {},
   "source": [
    "### Share the name of a song or a poem and translate it to two other languages"
   ]
  },
  {
   "cell_type": "code",
   "execution_count": 2,
   "id": "91086240",
   "metadata": {},
   "outputs": [
    {
     "name": "stdout",
     "output_type": "stream",
     "text": [
      "Defaulting to user installation because normal site-packages is not writeable\n",
      "Requirement already satisfied: google_trans_new in c:\\users\\johna\\appdata\\roaming\\python\\python311\\site-packages (1.1.9)\n"
     ]
    },
    {
     "data": {
      "text/plain": [
       "'My Hero'"
      ]
     },
     "execution_count": 2,
     "metadata": {},
     "output_type": "execute_result"
    }
   ],
   "source": [
    "#Install googletrans\n",
    "!pip install google_trans_new\n",
    "\n",
    "#from textblob import TextBlob\n",
    "from googletrans import Translator\n",
    "\n",
    "#Name of a song I am sharing\n",
    "\"My Hero\"\n"
   ]
  },
  {
   "cell_type": "code",
   "execution_count": 4,
   "id": "b13a160f",
   "metadata": {},
   "outputs": [
    {
     "name": "stdout",
     "output_type": "stream",
     "text": [
      "Il mio eroe\n"
     ]
    }
   ],
   "source": [
    "#Translate song \"My Hero\" from English to Italian\n",
    "translator=Translator()\n",
    "#Translate the song name from English to Italian\n",
    "translation=translator.translate('My Hero', dest='it')\n",
    "print(translation.text)"
   ]
  },
  {
   "cell_type": "code",
   "execution_count": 5,
   "id": "085a170c",
   "metadata": {},
   "outputs": [
    {
     "name": "stdout",
     "output_type": "stream",
     "text": [
      "Mon héros\n"
     ]
    }
   ],
   "source": [
    "#Translate song \"My Hero\" from English to French\n",
    "translator=Translator()\n",
    "#Translate the song name from English to Italian\n",
    "translation1=translator.translate('My Hero', dest='fr')\n",
    "print(translation1.text)"
   ]
  },
  {
   "cell_type": "code",
   "execution_count": null,
   "id": "25051e9c",
   "metadata": {},
   "outputs": [],
   "source": []
  }
 ],
 "metadata": {
  "kernelspec": {
   "display_name": "Python 3 (ipykernel)",
   "language": "python",
   "name": "python3"
  },
  "language_info": {
   "codemirror_mode": {
    "name": "ipython",
    "version": 3
   },
   "file_extension": ".py",
   "mimetype": "text/x-python",
   "name": "python",
   "nbconvert_exporter": "python",
   "pygments_lexer": "ipython3",
   "version": "3.11.5"
  }
 },
 "nbformat": 4,
 "nbformat_minor": 5
}
