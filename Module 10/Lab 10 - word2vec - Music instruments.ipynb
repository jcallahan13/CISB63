{
 "cells": [
  {
   "cell_type": "markdown",
   "id": "a1507aab",
   "metadata": {},
   "source": [
    "### Lab 10 - word2vec for Musical instrument reviews\n",
    "In this lab, you will be building and training Word2Vec embeddings for textual data and visualizing the embeddings using UMAP (Uniform Manifold Approximation and Projection).\n",
    "\n",
    "Steps:\n",
    "- Import \n",
    "libraries\n",
    "- Create a training and testing split of the data. 90% of the data is used for training, and 10% for testing.\n",
    "- Create sequences of purchases made by reviewers in both the training and testing sets.\n",
    "- Perform text preprocessing on the 'reviewText' column of the DataFrame. This includes converting text to lowercase, removing non-alphabetic characters, and stemming words.\n",
    "- Train a Word2Vec model on the preprocessed text data (allreviews) to learn word embeddings.\n",
    "- Find the 5 most similar words to the word \"bass\" and \"guitar\" in the trained Word2Vec model.\n",
    "- Train a Word2Vec model on the purchase history of the reviewers (product IDs) in the training set to learn product embeddings.\n",
    "- Train another Word2Vec model on the purchase history of the reviewers in the training set.\n",
    "- Extract the word vectors (product embeddings) from the trained Word2Vec model.\n",
    "- Visualize the word embeddings using UMAP.\n",
    "- Creates a scatter plot of the UMAP projections of the word embeddings.\n"
   ]
  },
  {
   "cell_type": "markdown",
   "id": "c1d768c5",
   "metadata": {},
   "source": [
    "#### import libraries: pandas, numpy, random, tqdm, matplotlib, warnings, and import Word2Vec from gensim.models"
   ]
  },
  {
   "cell_type": "code",
   "execution_count": 1,
   "id": "23036a0a",
   "metadata": {},
   "outputs": [],
   "source": [
    "import pandas as pd\n",
    "import numpy as np\n",
    "import random\n",
    "from tqdm import tqdm\n",
    "import matplotlib.pyplot as plt\n",
    "%matplotlib inline\n",
    "from gensim.models import Word2Vec\n",
    "\n",
    "import warnings;\n",
    "warnings.filterwarnings('ignore')"
   ]
  },
  {
   "cell_type": "markdown",
   "id": "3bcff829",
   "metadata": {},
   "source": [
    "#### using pandas, import the file: reviews_Musical_Instruments_5.json', lines=True"
   ]
  },
  {
   "cell_type": "code",
   "execution_count": 2,
   "id": "82d8c601",
   "metadata": {},
   "outputs": [],
   "source": [
    "df = pd.read_json('reviews_Musical_Instruments_5.json', lines=True)"
   ]
  },
  {
   "cell_type": "markdown",
   "id": "5665771a",
   "metadata": {},
   "source": [
    "#### display the head"
   ]
  },
  {
   "cell_type": "code",
   "execution_count": 3,
   "id": "b42ebb1c",
   "metadata": {},
   "outputs": [
    {
     "data": {
      "text/html": [
       "<div>\n",
       "<style scoped>\n",
       "    .dataframe tbody tr th:only-of-type {\n",
       "        vertical-align: middle;\n",
       "    }\n",
       "\n",
       "    .dataframe tbody tr th {\n",
       "        vertical-align: top;\n",
       "    }\n",
       "\n",
       "    .dataframe thead th {\n",
       "        text-align: right;\n",
       "    }\n",
       "</style>\n",
       "<table border=\"1\" class=\"dataframe\">\n",
       "  <thead>\n",
       "    <tr style=\"text-align: right;\">\n",
       "      <th></th>\n",
       "      <th>reviewerID</th>\n",
       "      <th>asin</th>\n",
       "      <th>reviewerName</th>\n",
       "      <th>helpful</th>\n",
       "      <th>reviewText</th>\n",
       "      <th>overall</th>\n",
       "      <th>summary</th>\n",
       "      <th>unixReviewTime</th>\n",
       "      <th>reviewTime</th>\n",
       "    </tr>\n",
       "  </thead>\n",
       "  <tbody>\n",
       "    <tr>\n",
       "      <th>0</th>\n",
       "      <td>A2IBPI20UZIR0U</td>\n",
       "      <td>1384719342</td>\n",
       "      <td>cassandra tu \"Yeah, well, that's just like, u...</td>\n",
       "      <td>[0, 0]</td>\n",
       "      <td>Not much to write about here, but it does exac...</td>\n",
       "      <td>5</td>\n",
       "      <td>good</td>\n",
       "      <td>1393545600</td>\n",
       "      <td>02 28, 2014</td>\n",
       "    </tr>\n",
       "    <tr>\n",
       "      <th>1</th>\n",
       "      <td>A14VAT5EAX3D9S</td>\n",
       "      <td>1384719342</td>\n",
       "      <td>Jake</td>\n",
       "      <td>[13, 14]</td>\n",
       "      <td>The product does exactly as it should and is q...</td>\n",
       "      <td>5</td>\n",
       "      <td>Jake</td>\n",
       "      <td>1363392000</td>\n",
       "      <td>03 16, 2013</td>\n",
       "    </tr>\n",
       "    <tr>\n",
       "      <th>2</th>\n",
       "      <td>A195EZSQDW3E21</td>\n",
       "      <td>1384719342</td>\n",
       "      <td>Rick Bennette \"Rick Bennette\"</td>\n",
       "      <td>[1, 1]</td>\n",
       "      <td>The primary job of this device is to block the...</td>\n",
       "      <td>5</td>\n",
       "      <td>It Does The Job Well</td>\n",
       "      <td>1377648000</td>\n",
       "      <td>08 28, 2013</td>\n",
       "    </tr>\n",
       "    <tr>\n",
       "      <th>3</th>\n",
       "      <td>A2C00NNG1ZQQG2</td>\n",
       "      <td>1384719342</td>\n",
       "      <td>RustyBill \"Sunday Rocker\"</td>\n",
       "      <td>[0, 0]</td>\n",
       "      <td>Nice windscreen protects my MXL mic and preven...</td>\n",
       "      <td>5</td>\n",
       "      <td>GOOD WINDSCREEN FOR THE MONEY</td>\n",
       "      <td>1392336000</td>\n",
       "      <td>02 14, 2014</td>\n",
       "    </tr>\n",
       "    <tr>\n",
       "      <th>4</th>\n",
       "      <td>A94QU4C90B1AX</td>\n",
       "      <td>1384719342</td>\n",
       "      <td>SEAN MASLANKA</td>\n",
       "      <td>[0, 0]</td>\n",
       "      <td>This pop filter is great. It looks and perform...</td>\n",
       "      <td>5</td>\n",
       "      <td>No more pops when I record my vocals.</td>\n",
       "      <td>1392940800</td>\n",
       "      <td>02 21, 2014</td>\n",
       "    </tr>\n",
       "  </tbody>\n",
       "</table>\n",
       "</div>"
      ],
      "text/plain": [
       "       reviewerID        asin  \\\n",
       "0  A2IBPI20UZIR0U  1384719342   \n",
       "1  A14VAT5EAX3D9S  1384719342   \n",
       "2  A195EZSQDW3E21  1384719342   \n",
       "3  A2C00NNG1ZQQG2  1384719342   \n",
       "4   A94QU4C90B1AX  1384719342   \n",
       "\n",
       "                                       reviewerName   helpful  \\\n",
       "0  cassandra tu \"Yeah, well, that's just like, u...    [0, 0]   \n",
       "1                                              Jake  [13, 14]   \n",
       "2                     Rick Bennette \"Rick Bennette\"    [1, 1]   \n",
       "3                         RustyBill \"Sunday Rocker\"    [0, 0]   \n",
       "4                                     SEAN MASLANKA    [0, 0]   \n",
       "\n",
       "                                          reviewText  overall  \\\n",
       "0  Not much to write about here, but it does exac...        5   \n",
       "1  The product does exactly as it should and is q...        5   \n",
       "2  The primary job of this device is to block the...        5   \n",
       "3  Nice windscreen protects my MXL mic and preven...        5   \n",
       "4  This pop filter is great. It looks and perform...        5   \n",
       "\n",
       "                                 summary  unixReviewTime   reviewTime  \n",
       "0                                   good      1393545600  02 28, 2014  \n",
       "1                                   Jake      1363392000  03 16, 2013  \n",
       "2                   It Does The Job Well      1377648000  08 28, 2013  \n",
       "3          GOOD WINDSCREEN FOR THE MONEY      1392336000  02 14, 2014  \n",
       "4  No more pops when I record my vocals.      1392940800  02 21, 2014  "
      ]
     },
     "execution_count": 3,
     "metadata": {},
     "output_type": "execute_result"
    }
   ],
   "source": [
    "df.head()"
   ]
  },
  {
   "cell_type": "markdown",
   "id": "13bfd16d",
   "metadata": {},
   "source": [
    "#### display info"
   ]
  },
  {
   "cell_type": "code",
   "execution_count": 4,
   "id": "7bd52d1e",
   "metadata": {},
   "outputs": [
    {
     "name": "stdout",
     "output_type": "stream",
     "text": [
      "<class 'pandas.core.frame.DataFrame'>\n",
      "RangeIndex: 10261 entries, 0 to 10260\n",
      "Data columns (total 9 columns):\n",
      " #   Column          Non-Null Count  Dtype \n",
      "---  ------          --------------  ----- \n",
      " 0   reviewerID      10261 non-null  object\n",
      " 1   asin            10261 non-null  object\n",
      " 2   reviewerName    10234 non-null  object\n",
      " 3   helpful         10261 non-null  object\n",
      " 4   reviewText      10261 non-null  object\n",
      " 5   overall         10261 non-null  int64 \n",
      " 6   summary         10261 non-null  object\n",
      " 7   unixReviewTime  10261 non-null  int64 \n",
      " 8   reviewTime      10261 non-null  object\n",
      "dtypes: int64(2), object(7)\n",
      "memory usage: 721.6+ KB\n"
     ]
    }
   ],
   "source": [
    "df.info()"
   ]
  },
  {
   "cell_type": "markdown",
   "id": "5a058793",
   "metadata": {},
   "source": [
    "#### look for missing values in all the columns using isna"
   ]
  },
  {
   "cell_type": "code",
   "execution_count": 5,
   "id": "90e54a06",
   "metadata": {},
   "outputs": [
    {
     "data": {
      "text/plain": [
       "reviewerID         0\n",
       "asin               0\n",
       "reviewerName      27\n",
       "helpful            0\n",
       "reviewText         0\n",
       "overall            0\n",
       "summary            0\n",
       "unixReviewTime     0\n",
       "reviewTime         0\n",
       "dtype: int64"
      ]
     },
     "execution_count": 5,
     "metadata": {},
     "output_type": "execute_result"
    }
   ],
   "source": [
    "df.isna().sum()"
   ]
  },
  {
   "cell_type": "markdown",
   "id": "d09bb50b",
   "metadata": {},
   "source": [
    "#### look for null values in all the columns using isnull"
   ]
  },
  {
   "cell_type": "code",
   "execution_count": 6,
   "id": "5aea6a92",
   "metadata": {},
   "outputs": [
    {
     "data": {
      "text/plain": [
       "reviewerID         0\n",
       "asin               0\n",
       "reviewerName      27\n",
       "helpful            0\n",
       "reviewText         0\n",
       "overall            0\n",
       "summary            0\n",
       "unixReviewTime     0\n",
       "reviewTime         0\n",
       "dtype: int64"
      ]
     },
     "execution_count": 6,
     "metadata": {},
     "output_type": "execute_result"
    }
   ],
   "source": [
    "df.isnull().sum()"
   ]
  },
  {
   "cell_type": "markdown",
   "id": "c5e31288",
   "metadata": {},
   "source": [
    "#### remove missing values by dropping all the rows with missing values"
   ]
  },
  {
   "cell_type": "code",
   "execution_count": 7,
   "id": "37f864a5",
   "metadata": {},
   "outputs": [],
   "source": [
    "df.dropna(inplace=True)"
   ]
  },
  {
   "cell_type": "markdown",
   "id": "92c6a0ad",
   "metadata": {},
   "source": [
    "#### display the head"
   ]
  },
  {
   "cell_type": "code",
   "execution_count": 8,
   "id": "6be4d835",
   "metadata": {},
   "outputs": [
    {
     "data": {
      "text/html": [
       "<div>\n",
       "<style scoped>\n",
       "    .dataframe tbody tr th:only-of-type {\n",
       "        vertical-align: middle;\n",
       "    }\n",
       "\n",
       "    .dataframe tbody tr th {\n",
       "        vertical-align: top;\n",
       "    }\n",
       "\n",
       "    .dataframe thead th {\n",
       "        text-align: right;\n",
       "    }\n",
       "</style>\n",
       "<table border=\"1\" class=\"dataframe\">\n",
       "  <thead>\n",
       "    <tr style=\"text-align: right;\">\n",
       "      <th></th>\n",
       "      <th>reviewerID</th>\n",
       "      <th>asin</th>\n",
       "      <th>reviewerName</th>\n",
       "      <th>helpful</th>\n",
       "      <th>reviewText</th>\n",
       "      <th>overall</th>\n",
       "      <th>summary</th>\n",
       "      <th>unixReviewTime</th>\n",
       "      <th>reviewTime</th>\n",
       "    </tr>\n",
       "  </thead>\n",
       "  <tbody>\n",
       "    <tr>\n",
       "      <th>0</th>\n",
       "      <td>A2IBPI20UZIR0U</td>\n",
       "      <td>1384719342</td>\n",
       "      <td>cassandra tu \"Yeah, well, that's just like, u...</td>\n",
       "      <td>[0, 0]</td>\n",
       "      <td>Not much to write about here, but it does exac...</td>\n",
       "      <td>5</td>\n",
       "      <td>good</td>\n",
       "      <td>1393545600</td>\n",
       "      <td>02 28, 2014</td>\n",
       "    </tr>\n",
       "    <tr>\n",
       "      <th>1</th>\n",
       "      <td>A14VAT5EAX3D9S</td>\n",
       "      <td>1384719342</td>\n",
       "      <td>Jake</td>\n",
       "      <td>[13, 14]</td>\n",
       "      <td>The product does exactly as it should and is q...</td>\n",
       "      <td>5</td>\n",
       "      <td>Jake</td>\n",
       "      <td>1363392000</td>\n",
       "      <td>03 16, 2013</td>\n",
       "    </tr>\n",
       "    <tr>\n",
       "      <th>2</th>\n",
       "      <td>A195EZSQDW3E21</td>\n",
       "      <td>1384719342</td>\n",
       "      <td>Rick Bennette \"Rick Bennette\"</td>\n",
       "      <td>[1, 1]</td>\n",
       "      <td>The primary job of this device is to block the...</td>\n",
       "      <td>5</td>\n",
       "      <td>It Does The Job Well</td>\n",
       "      <td>1377648000</td>\n",
       "      <td>08 28, 2013</td>\n",
       "    </tr>\n",
       "    <tr>\n",
       "      <th>3</th>\n",
       "      <td>A2C00NNG1ZQQG2</td>\n",
       "      <td>1384719342</td>\n",
       "      <td>RustyBill \"Sunday Rocker\"</td>\n",
       "      <td>[0, 0]</td>\n",
       "      <td>Nice windscreen protects my MXL mic and preven...</td>\n",
       "      <td>5</td>\n",
       "      <td>GOOD WINDSCREEN FOR THE MONEY</td>\n",
       "      <td>1392336000</td>\n",
       "      <td>02 14, 2014</td>\n",
       "    </tr>\n",
       "    <tr>\n",
       "      <th>4</th>\n",
       "      <td>A94QU4C90B1AX</td>\n",
       "      <td>1384719342</td>\n",
       "      <td>SEAN MASLANKA</td>\n",
       "      <td>[0, 0]</td>\n",
       "      <td>This pop filter is great. It looks and perform...</td>\n",
       "      <td>5</td>\n",
       "      <td>No more pops when I record my vocals.</td>\n",
       "      <td>1392940800</td>\n",
       "      <td>02 21, 2014</td>\n",
       "    </tr>\n",
       "  </tbody>\n",
       "</table>\n",
       "</div>"
      ],
      "text/plain": [
       "       reviewerID        asin  \\\n",
       "0  A2IBPI20UZIR0U  1384719342   \n",
       "1  A14VAT5EAX3D9S  1384719342   \n",
       "2  A195EZSQDW3E21  1384719342   \n",
       "3  A2C00NNG1ZQQG2  1384719342   \n",
       "4   A94QU4C90B1AX  1384719342   \n",
       "\n",
       "                                       reviewerName   helpful  \\\n",
       "0  cassandra tu \"Yeah, well, that's just like, u...    [0, 0]   \n",
       "1                                              Jake  [13, 14]   \n",
       "2                     Rick Bennette \"Rick Bennette\"    [1, 1]   \n",
       "3                         RustyBill \"Sunday Rocker\"    [0, 0]   \n",
       "4                                     SEAN MASLANKA    [0, 0]   \n",
       "\n",
       "                                          reviewText  overall  \\\n",
       "0  Not much to write about here, but it does exac...        5   \n",
       "1  The product does exactly as it should and is q...        5   \n",
       "2  The primary job of this device is to block the...        5   \n",
       "3  Nice windscreen protects my MXL mic and preven...        5   \n",
       "4  This pop filter is great. It looks and perform...        5   \n",
       "\n",
       "                                 summary  unixReviewTime   reviewTime  \n",
       "0                                   good      1393545600  02 28, 2014  \n",
       "1                                   Jake      1363392000  03 16, 2013  \n",
       "2                   It Does The Job Well      1377648000  08 28, 2013  \n",
       "3          GOOD WINDSCREEN FOR THE MONEY      1392336000  02 14, 2014  \n",
       "4  No more pops when I record my vocals.      1392940800  02 21, 2014  "
      ]
     },
     "execution_count": 8,
     "metadata": {},
     "output_type": "execute_result"
    }
   ],
   "source": [
    "df.head()"
   ]
  },
  {
   "cell_type": "markdown",
   "id": "46311b0e",
   "metadata": {},
   "source": [
    "#### display the last five records"
   ]
  },
  {
   "cell_type": "code",
   "execution_count": 9,
   "id": "2bcb3d45",
   "metadata": {},
   "outputs": [
    {
     "data": {
      "text/html": [
       "<div>\n",
       "<style scoped>\n",
       "    .dataframe tbody tr th:only-of-type {\n",
       "        vertical-align: middle;\n",
       "    }\n",
       "\n",
       "    .dataframe tbody tr th {\n",
       "        vertical-align: top;\n",
       "    }\n",
       "\n",
       "    .dataframe thead th {\n",
       "        text-align: right;\n",
       "    }\n",
       "</style>\n",
       "<table border=\"1\" class=\"dataframe\">\n",
       "  <thead>\n",
       "    <tr style=\"text-align: right;\">\n",
       "      <th></th>\n",
       "      <th>reviewerID</th>\n",
       "      <th>asin</th>\n",
       "      <th>reviewerName</th>\n",
       "      <th>helpful</th>\n",
       "      <th>reviewText</th>\n",
       "      <th>overall</th>\n",
       "      <th>summary</th>\n",
       "      <th>unixReviewTime</th>\n",
       "      <th>reviewTime</th>\n",
       "    </tr>\n",
       "  </thead>\n",
       "  <tbody>\n",
       "    <tr>\n",
       "      <th>10256</th>\n",
       "      <td>A14B2YH83ZXMPP</td>\n",
       "      <td>B00JBIVXGC</td>\n",
       "      <td>Lonnie M. Adams</td>\n",
       "      <td>[0, 0]</td>\n",
       "      <td>Great, just as expected.  Thank to all.</td>\n",
       "      <td>5</td>\n",
       "      <td>Five Stars</td>\n",
       "      <td>1405814400</td>\n",
       "      <td>07 20, 2014</td>\n",
       "    </tr>\n",
       "    <tr>\n",
       "      <th>10257</th>\n",
       "      <td>A1RPTVW5VEOSI</td>\n",
       "      <td>B00JBIVXGC</td>\n",
       "      <td>Michael J. Edelman</td>\n",
       "      <td>[0, 0]</td>\n",
       "      <td>I've been thinking about trying the Nanoweb st...</td>\n",
       "      <td>5</td>\n",
       "      <td>Long life, and for some players, a good econom...</td>\n",
       "      <td>1404259200</td>\n",
       "      <td>07 2, 2014</td>\n",
       "    </tr>\n",
       "    <tr>\n",
       "      <th>10258</th>\n",
       "      <td>AWCJ12KBO5VII</td>\n",
       "      <td>B00JBIVXGC</td>\n",
       "      <td>Michael L. Knapp</td>\n",
       "      <td>[0, 0]</td>\n",
       "      <td>I have tried coated strings in the past ( incl...</td>\n",
       "      <td>4</td>\n",
       "      <td>Good for coated.</td>\n",
       "      <td>1405987200</td>\n",
       "      <td>07 22, 2014</td>\n",
       "    </tr>\n",
       "    <tr>\n",
       "      <th>10259</th>\n",
       "      <td>A2Z7S8B5U4PAKJ</td>\n",
       "      <td>B00JBIVXGC</td>\n",
       "      <td>Rick Langdon \"Scriptor\"</td>\n",
       "      <td>[0, 0]</td>\n",
       "      <td>Well, MADE by Elixir and DEVELOPED with Taylor...</td>\n",
       "      <td>4</td>\n",
       "      <td>Taylor Made</td>\n",
       "      <td>1404172800</td>\n",
       "      <td>07 1, 2014</td>\n",
       "    </tr>\n",
       "    <tr>\n",
       "      <th>10260</th>\n",
       "      <td>A2WA8TDCTGUADI</td>\n",
       "      <td>B00JBIVXGC</td>\n",
       "      <td>TheTerrorBeyond</td>\n",
       "      <td>[0, 0]</td>\n",
       "      <td>These strings are really quite good, but I wou...</td>\n",
       "      <td>4</td>\n",
       "      <td>These strings are really quite good, but I wou...</td>\n",
       "      <td>1405468800</td>\n",
       "      <td>07 16, 2014</td>\n",
       "    </tr>\n",
       "  </tbody>\n",
       "</table>\n",
       "</div>"
      ],
      "text/plain": [
       "           reviewerID        asin             reviewerName helpful  \\\n",
       "10256  A14B2YH83ZXMPP  B00JBIVXGC          Lonnie M. Adams  [0, 0]   \n",
       "10257   A1RPTVW5VEOSI  B00JBIVXGC       Michael J. Edelman  [0, 0]   \n",
       "10258   AWCJ12KBO5VII  B00JBIVXGC         Michael L. Knapp  [0, 0]   \n",
       "10259  A2Z7S8B5U4PAKJ  B00JBIVXGC  Rick Langdon \"Scriptor\"  [0, 0]   \n",
       "10260  A2WA8TDCTGUADI  B00JBIVXGC          TheTerrorBeyond  [0, 0]   \n",
       "\n",
       "                                              reviewText  overall  \\\n",
       "10256            Great, just as expected.  Thank to all.        5   \n",
       "10257  I've been thinking about trying the Nanoweb st...        5   \n",
       "10258  I have tried coated strings in the past ( incl...        4   \n",
       "10259  Well, MADE by Elixir and DEVELOPED with Taylor...        4   \n",
       "10260  These strings are really quite good, but I wou...        4   \n",
       "\n",
       "                                                 summary  unixReviewTime  \\\n",
       "10256                                         Five Stars      1405814400   \n",
       "10257  Long life, and for some players, a good econom...      1404259200   \n",
       "10258                                   Good for coated.      1405987200   \n",
       "10259                                        Taylor Made      1404172800   \n",
       "10260  These strings are really quite good, but I wou...      1405468800   \n",
       "\n",
       "        reviewTime  \n",
       "10256  07 20, 2014  \n",
       "10257   07 2, 2014  \n",
       "10258  07 22, 2014  \n",
       "10259   07 1, 2014  \n",
       "10260  07 16, 2014  "
      ]
     },
     "execution_count": 9,
     "metadata": {},
     "output_type": "execute_result"
    }
   ],
   "source": [
    "df.tail()"
   ]
  },
  {
   "cell_type": "markdown",
   "id": "741fa6cf",
   "metadata": {},
   "source": [
    "#### find the number of unique reviewers in our dataset using a list"
   ]
  },
  {
   "cell_type": "code",
   "execution_count": 10,
   "id": "d8a6047b",
   "metadata": {},
   "outputs": [
    {
     "data": {
      "text/plain": [
       "1428"
      ]
     },
     "execution_count": 10,
     "metadata": {},
     "output_type": "execute_result"
    }
   ],
   "source": [
    "reviewers = set(df['reviewerID'])\n",
    "reviewers = list(reviewers)\n",
    "len(reviewers)"
   ]
  },
  {
   "cell_type": "markdown",
   "id": "f2cfd634",
   "metadata": {},
   "source": [
    "#### find the number of unique reviewers in our dataset using  .unique.tolist"
   ]
  },
  {
   "cell_type": "code",
   "execution_count": 11,
   "id": "66ecd3a2",
   "metadata": {},
   "outputs": [
    {
     "data": {
      "text/plain": [
       "1428"
      ]
     },
     "execution_count": 11,
     "metadata": {},
     "output_type": "execute_result"
    }
   ],
   "source": [
    "reviewers = df['reviewerID'].unique().tolist()\n",
    "len(reviewers)"
   ]
  },
  {
   "cell_type": "markdown",
   "id": "3ae12f34",
   "metadata": {},
   "source": [
    "#### There are 1,428 customers in our dataset. For each of these customers, you will extract their buying history. In other words, we can have 1,428 sequences of purchases.\n",
    "\n",
    "#### It is a good practice to set aside a small part of the dataset for validation purposes. Therefore, we will use the data of 90% of the customers to create word2vec embeddings. \n",
    "\n",
    "#### Let’s split the data."
   ]
  },
  {
   "cell_type": "markdown",
   "id": "37028813",
   "metadata": {},
   "source": [
    "#### Create a training list with 90% of the data"
   ]
  },
  {
   "cell_type": "code",
   "execution_count": 12,
   "id": "53c89ede",
   "metadata": {},
   "outputs": [],
   "source": [
    "# Seed\n",
    "random.seed(117)\n",
    "# Training list  --- One line of code\n",
    "reviewers_train = [reviewers[i] for i in range(round(0.9*len(reviewers)))]"
   ]
  },
  {
   "cell_type": "markdown",
   "id": "79b9632c",
   "metadata": {},
   "source": [
    "#### print the length of the list"
   ]
  },
  {
   "cell_type": "code",
   "execution_count": 13,
   "id": "63ce14d7",
   "metadata": {},
   "outputs": [
    {
     "data": {
      "text/plain": [
       "1285"
      ]
     },
     "execution_count": 13,
     "metadata": {},
     "output_type": "execute_result"
    }
   ],
   "source": [
    "len(reviewers_train)"
   ]
  },
  {
   "cell_type": "markdown",
   "id": "f10c2f65",
   "metadata": {},
   "source": [
    "### split data into train and test\n",
    "\n",
    "#### create a training dataframe with the reviewerID using isin and the customer_train created above"
   ]
  },
  {
   "cell_type": "code",
   "execution_count": 14,
   "id": "3e0146d5",
   "metadata": {},
   "outputs": [],
   "source": [
    "# Training DF using the reviewer list    -    One line of code\n",
    "train_df = df[df['reviewerID'].isin(reviewers_train)]"
   ]
  },
  {
   "cell_type": "markdown",
   "id": "7232225c",
   "metadata": {},
   "source": [
    "#### print the length of the list (train_df)"
   ]
  },
  {
   "cell_type": "code",
   "execution_count": 15,
   "id": "d7066a70",
   "metadata": {},
   "outputs": [
    {
     "data": {
      "text/plain": [
       "9417"
      ]
     },
     "execution_count": 15,
     "metadata": {},
     "output_type": "execute_result"
    }
   ],
   "source": [
    "len(train_df)"
   ]
  },
  {
   "cell_type": "markdown",
   "id": "c63939f0",
   "metadata": {},
   "source": [
    "#### create a test dataframe with the reviewerID using isin and the customer_train created above"
   ]
  },
  {
   "cell_type": "code",
   "execution_count": 16,
   "id": "78507e91",
   "metadata": {},
   "outputs": [],
   "source": [
    "test_df = df[~df['reviewerID'].isin(reviewers_train)]"
   ]
  },
  {
   "cell_type": "markdown",
   "id": "9ce8b2a4",
   "metadata": {},
   "source": [
    "#### Print the length of test_df"
   ]
  },
  {
   "cell_type": "code",
   "execution_count": 17,
   "id": "4bad679a",
   "metadata": {},
   "outputs": [
    {
     "data": {
      "text/plain": [
       "817"
      ]
     },
     "execution_count": 17,
     "metadata": {},
     "output_type": "execute_result"
    }
   ],
   "source": [
    "len(test_df)"
   ]
  },
  {
   "cell_type": "markdown",
   "id": "f5332355",
   "metadata": {},
   "source": [
    "#### Create sequences of purchases made by the reviewers in the dataset for both the train and validation sets. You need to code three blocks of code. In the first two, you need a list called: purchases_train = []; in the last block, you need a list called: purchases_test = []. Also, you need a for lop and use tqdm in every block."
   ]
  },
  {
   "cell_type": "code",
   "execution_count": 18,
   "id": "086af245",
   "metadata": {},
   "outputs": [
    {
     "name": "stderr",
     "output_type": "stream",
     "text": [
      "100%|█████████████████████████████████████████████████████████████████████████████| 1285/1285 [00:02<00:00, 457.29it/s]\n"
     ]
    }
   ],
   "source": [
    "# list to capture purchase history of the reviewers\n",
    "purchases_train = []\n",
    "\n",
    "# populate the list with the product codes.\n",
    "# use a variable called temp \n",
    "# append the values\n",
    "# Two lines of code: \n",
    "for i in tqdm(reviewers_train):\n",
    "    temp = train_df[train_df['reviewerID'] == i]['asin'].tolist()\n",
    "    purchases_train.append(temp)\n",
    "    "
   ]
  },
  {
   "cell_type": "code",
   "execution_count": 19,
   "id": "24a0a4ac",
   "metadata": {},
   "outputs": [
    {
     "name": "stderr",
     "output_type": "stream",
     "text": [
      "100%|█████████████████████████████████████████████████████████████████████████████| 1285/1285 [00:02<00:00, 444.84it/s]\n"
     ]
    }
   ],
   "source": [
    "# Purchase history sequence - Train\n",
    "purchases_train = []\n",
    "\n",
    "# Complete the two lines of code to append the data.\n",
    "for i in tqdm(reviewers_train):\n",
    "    in_training = train_df[train_df['reviewerID'] == i]['asin'].tolist()\n",
    "    purchases_train.append(in_training)\n",
    "    "
   ]
  },
  {
   "cell_type": "code",
   "execution_count": 20,
   "id": "4b8eb352",
   "metadata": {},
   "outputs": [
    {
     "name": "stderr",
     "output_type": "stream",
     "text": [
      "100%|██████████████████████████████████████████████████████████████████████████████| 143/143 [00:00<00:00, 1606.85it/s]\n"
     ]
    }
   ],
   "source": [
    "# Same process, purchase history - Test\n",
    "purchases_test = []\n",
    "\n",
    "# Complete the two lines of code to append the data.\n",
    "for i in tqdm(test_df['reviewerID'].unique()):\n",
    "    in_training = test_df[test_df['reviewerID'] == i]['asin'].tolist()\n",
    "    purchases_test.append(in_training)\n",
    "    "
   ]
  },
  {
   "cell_type": "markdown",
   "id": "ea5a5c0a",
   "metadata": {},
   "source": [
    "#### import nltp, re, and PorterStemmer from nltk.stem.porter"
   ]
  },
  {
   "cell_type": "code",
   "execution_count": 21,
   "id": "7c280696",
   "metadata": {},
   "outputs": [],
   "source": [
    "import nltk\n",
    "import re\n",
    "from nltk.stem.porter import PorterStemmer"
   ]
  },
  {
   "cell_type": "markdown",
   "id": "56e1c820",
   "metadata": {},
   "source": [
    "#### Explain the block of code below and run it"
   ]
  },
  {
   "cell_type": "markdown",
   "id": "de094a94",
   "metadata": {},
   "source": [
    "This is used for text preprocessing, cleaning and preparing text data in the reviewText column of a DataFrame (df).\n",
    "\n",
    "stopword_list \n",
    "loads a list of common English stopwords (the, is, in) from the nltk library\n",
    "\n",
    "st \n",
    "creates an instance of the PorterStemmer, a tool for stemming words, which reduces words to their root form\n",
    "\n",
    "df.reviewText = df.reviewText.str.lower()\n",
    "Converts all text in the reviewText column to lowercase\n",
    "\n",
    "df.reviewText = df.reviewText.apply(lambda x: re.sub(' +', ' ', re.sub(r'[^a-z]', ' ', x)))\n",
    "Uses regular expressions to remove any character that is not a lowercase latter and replaces it with a space.  The second re.sub replaces any occurence of multiple spaces with a single space.\n",
    "\n",
    "df.reviewText = df.reviewText.apply(lambda x: \" \".join([st.stem(i) for i in x.split() if i not in stopword_list]))\n",
    "Splits each cleaned review text into individual words, removes any words that are stopwords, and applies stemming to the remaining words.\n",
    "\n",
    "allreviews = list(df.reviewText)\n",
    "Converts the cleaned reviewText column to a list of strings.\n",
    "\n",
    "allreviews = [i.split() for i in allreviews]\n",
    "Splits each string into a list of individual words, creating a list of lists."
   ]
  },
  {
   "cell_type": "code",
   "execution_count": 22,
   "id": "f22ca033",
   "metadata": {},
   "outputs": [],
   "source": [
    "stopword_list = nltk.corpus.stopwords.words('english')\n",
    "st = PorterStemmer()\n",
    "\n",
    "df.reviewText = df.reviewText.str.lower()\n",
    "df.reviewText = df.reviewText.apply(lambda x: re.sub(' +', ' ', re.sub(r'[^a-z]', ' ', x)))\n",
    "df.reviewText = df.reviewText.apply(lambda x: \" \".join([st.stem(i) for i in x.split() if i not in stopword_list]))\n",
    "\n",
    "allreviews = list(df.reviewText)\n",
    "allreviews = [i.split() for i in allreviews]"
   ]
  },
  {
   "cell_type": "markdown",
   "id": "0e4a657c",
   "metadata": {},
   "source": [
    "#### import Word2Vec from gensim.models.word2vec"
   ]
  },
  {
   "cell_type": "code",
   "execution_count": 23,
   "id": "5641932a",
   "metadata": {},
   "outputs": [],
   "source": [
    "from gensim.models import Word2Vec"
   ]
  },
  {
   "cell_type": "markdown",
   "id": "b4720ded",
   "metadata": {},
   "source": [
    "#### create a model using: <br>Word2Vec(min_count = 5) <br> build_vocab(allreviews) <br> train(allreviews, total_examples = model.corpus_count, epochs = 10)"
   ]
  },
  {
   "cell_type": "code",
   "execution_count": 24,
   "id": "6c79a536",
   "metadata": {},
   "outputs": [
    {
     "data": {
      "text/plain": [
       "(3951275, 4579030)"
      ]
     },
     "execution_count": 24,
     "metadata": {},
     "output_type": "execute_result"
    }
   ],
   "source": [
    "# Three lines of code: \n",
    "model = Word2Vec(window=10, min_count=5, sg=1, hs=0, negative=10, alpha=0.03, min_alpha=0.0007, seed=4)\n",
    "\n",
    "model.build_vocab(allreviews, progress_per=200)\n",
    "\n",
    "model.train(allreviews, total_examples = model.corpus_count, epochs=10, report_delay=1)"
   ]
  },
  {
   "cell_type": "markdown",
   "id": "4a9d331f",
   "metadata": {},
   "source": [
    "### Using the model above, display the 5 most similar words to \"bass\" "
   ]
  },
  {
   "cell_type": "code",
   "execution_count": 25,
   "id": "9f93e0dd",
   "metadata": {},
   "outputs": [
    {
     "data": {
      "text/plain": [
       "[('hofner', 0.6471413969993591),\n",
       " ('ae', 0.5782425403594971),\n",
       " ('thump', 0.5679152011871338),\n",
       " ('para', 0.5516454577445984),\n",
       " ('neutral', 0.5501152276992798)]"
      ]
     },
     "execution_count": 25,
     "metadata": {},
     "output_type": "execute_result"
    }
   ],
   "source": [
    "model.wv.most_similar(positive='bass', topn=5)"
   ]
  },
  {
   "cell_type": "code",
   "execution_count": null,
   "id": "c059c198",
   "metadata": {},
   "outputs": [],
   "source": []
  },
  {
   "cell_type": "markdown",
   "id": "8dcea672",
   "metadata": {},
   "source": [
    "### Using the model above, display the 5 most similar words to \"guitar\" "
   ]
  },
  {
   "cell_type": "code",
   "execution_count": 26,
   "id": "179f71fb",
   "metadata": {},
   "outputs": [
    {
     "data": {
      "text/plain": [
       "[('acoust', 0.7196950316429138),\n",
       " ('electr', 0.712263286113739),\n",
       " ('hummingbird', 0.7051588296890259),\n",
       " ('instrument', 0.6848500967025757),\n",
       " ('uncl', 0.6741532683372498)]"
      ]
     },
     "execution_count": 26,
     "metadata": {},
     "output_type": "execute_result"
    }
   ],
   "source": [
    "model.wv.most_similar(positive='guitar', topn=5)"
   ]
  },
  {
   "cell_type": "code",
   "execution_count": null,
   "id": "c4cdbb9c",
   "metadata": {},
   "outputs": [],
   "source": []
  },
  {
   "cell_type": "markdown",
   "id": "8225a6bf",
   "metadata": {},
   "source": [
    "#### Let's use a different model"
   ]
  },
  {
   "cell_type": "markdown",
   "id": "22bc421b",
   "metadata": {},
   "source": [
    "#### Build word2vec Embeddings for Products"
   ]
  },
  {
   "cell_type": "code",
   "execution_count": 27,
   "id": "6ae6cc34",
   "metadata": {},
   "outputs": [
    {
     "data": {
      "text/plain": [
       "(79761, 94170)"
      ]
     },
     "execution_count": 27,
     "metadata": {},
     "output_type": "execute_result"
    }
   ],
   "source": [
    "# train word2vec model\n",
    "model = Word2Vec(window = 10, sg = 1, hs = 0,\n",
    "                 negative = 10, # for negative sampling\n",
    "                 alpha=0.03, min_alpha=0.0007,\n",
    "                 seed = 14)\n",
    "\n",
    "model.build_vocab(purchases_train, progress_per=200)\n",
    "\n",
    "model.train(purchases_train, total_examples = model.corpus_count, \n",
    "            epochs=10, report_delay=1)"
   ]
  },
  {
   "cell_type": "code",
   "execution_count": 28,
   "id": "d97a9d50",
   "metadata": {},
   "outputs": [
    {
     "data": {
      "text/plain": [
       "(79683, 94170)"
      ]
     },
     "execution_count": 28,
     "metadata": {},
     "output_type": "execute_result"
    }
   ],
   "source": [
    "# Build & train W2V model\n",
    "model = Word2Vec(window=10, sg=1, hs=0, negative=10, alpha=0.03, min_alpha=0.0007, seed=4)\n",
    "model.build_vocab(purchases_train, progress_per=200)\n",
    "model.train(purchases_train, total_examples=model.corpus_count, epochs=10, report_delay=1)"
   ]
  },
  {
   "cell_type": "markdown",
   "id": "9044f3c9",
   "metadata": {},
   "source": [
    "#### print out the summary of “model”:"
   ]
  },
  {
   "cell_type": "code",
   "execution_count": 29,
   "id": "da2d197b",
   "metadata": {},
   "outputs": [
    {
     "name": "stdout",
     "output_type": "stream",
     "text": [
      "Word2Vec<vocab=784, vector_size=100, alpha=0.03>\n"
     ]
    }
   ],
   "source": [
    "print(model)"
   ]
  },
  {
   "cell_type": "markdown",
   "id": "bbb36bb3",
   "metadata": {},
   "source": [
    "Our model has a vocabulary of 787 unique words and their vectors of size 100 each. Next, we will extract the vectors of all the words in our vocabulary and store it in one place for easy access."
   ]
  },
  {
   "cell_type": "markdown",
   "id": "803e67d8",
   "metadata": {},
   "source": [
    "#### extract all vectors in a variable called X"
   ]
  },
  {
   "cell_type": "code",
   "execution_count": 30,
   "id": "bc6832ab",
   "metadata": {},
   "outputs": [],
   "source": [
    "X = list(model.wv.index_to_key)"
   ]
  },
  {
   "cell_type": "code",
   "execution_count": 31,
   "id": "74e2496e",
   "metadata": {},
   "outputs": [],
   "source": [
    "X = model.wv[model.wv.key_to_index]"
   ]
  },
  {
   "cell_type": "markdown",
   "id": "cb815690",
   "metadata": {},
   "source": [
    "#### Print the shape of X"
   ]
  },
  {
   "cell_type": "code",
   "execution_count": 32,
   "id": "928d67f8",
   "metadata": {},
   "outputs": [
    {
     "data": {
      "text/plain": [
       "(784, 100)"
      ]
     },
     "execution_count": 32,
     "metadata": {},
     "output_type": "execute_result"
    }
   ],
   "source": [
    "X.shape"
   ]
  },
  {
   "cell_type": "markdown",
   "id": "a0e92102",
   "metadata": {},
   "source": [
    "#### Visualize word2vec Embeddings usign umap"
   ]
  },
  {
   "cell_type": "code",
   "execution_count": 33,
   "id": "cea01432",
   "metadata": {},
   "outputs": [],
   "source": [
    "#!pip install umap\n",
    "#!pip install umap-learn"
   ]
  },
  {
   "cell_type": "code",
   "execution_count": 34,
   "id": "7e66f391",
   "metadata": {},
   "outputs": [],
   "source": [
    "import umap.umap_ as umap"
   ]
  },
  {
   "cell_type": "code",
   "execution_count": 35,
   "id": "4b95f0d0",
   "metadata": {},
   "outputs": [
    {
     "data": {
      "text/plain": [
       "<matplotlib.collections.PathCollection at 0x27cffcd4fd0>"
      ]
     },
     "execution_count": 35,
     "metadata": {},
     "output_type": "execute_result"
    },
    {
     "data": {
      "image/png": "[encoded data removed]",
      "text/plain": [
       "<Figure size 1000x900 with 1 Axes>"
      ]
     },
     "metadata": {},
     "output_type": "display_data"
    }
   ],
   "source": [
    "reducer=umap.UMAP(n_neighbors=30, min_dist=0.0,\n",
    "                              n_components=2, random_state=42)\n",
    "result=reducer.fit_transform(X)\n",
    "\n",
    "plt.figure(figsize=(10,9))\n",
    "plt.scatter(result[:, 0], result[:, 1], s=3, cmap='Spectral')\n"
   ]
  },
  {
   "cell_type": "markdown",
   "id": "aad06a7a",
   "metadata": {},
   "source": [
    "Every dot in this plot is a product. As you can see, there are several tiny clusters of these data points. These are groups of similar products."
   ]
  }
 ],
 "metadata": {
  "kernelspec": {
   "display_name": "Python 3 (ipykernel)",
   "language": "python",
   "name": "python3"
  },
  "language_info": {
   "codemirror_mode": {
    "name": "ipython",
    "version": 3
   },
   "file_extension": ".py",
   "mimetype": "text/x-python",
   "name": "python",
   "nbconvert_exporter": "python",
   "pygments_lexer": "ipython3",
   "version": "3.11.5"
  }
 },
 "nbformat": 4,
 "nbformat_minor": 5
}
